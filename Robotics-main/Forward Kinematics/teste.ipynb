{
 "cells": [
  {
   "attachments": {},
   "cell_type": "markdown",
   "metadata": {},
   "source": [
    "# Exemplos de uso da biblioteca:"
   ]
  },
  {
   "cell_type": "code",
   "execution_count": 1,
   "metadata": {},
   "outputs": [],
   "source": [
    "from FKM import *"
   ]
  },
  {
   "attachments": {},
   "cell_type": "markdown",
   "metadata": {},
   "source": [
    "### Exemplo de robô 3R:"
   ]
  },
  {
   "cell_type": "code",
   "execution_count": 2,
   "metadata": {},
   "outputs": [
    {
     "data": {
      "text/latex": [
       "$\\displaystyle \\left[\\begin{matrix}c_{123} & - s_{123} & 0 & c_{1} l₁ + c_{12} l₂ + c_{123} l₃\\\\s_{123} & c_{123} & 0 & l₁ s_{1} + l₂ s_{12} + l₃ s_{123}\\\\0 & 0 & 1 & 0\\\\0 & 0 & 0 & 1\\end{matrix}\\right]$"
      ],
      "text/plain": [
       "⎡c₁₂₃  -s₁₂₃  0  c₁⋅l₁ + c₁₂⋅l₂ + c₁₂₃⋅l₃⎤\n",
       "⎢                                        ⎥\n",
       "⎢s₁₂₃  c₁₂₃   0  l₁⋅s₁ + l₂⋅s₁₂ + l₃⋅s₁₂₃⎥\n",
       "⎢                                        ⎥\n",
       "⎢ 0      0    1             0            ⎥\n",
       "⎢                                        ⎥\n",
       "⎣ 0      0    0             1            ⎦"
      ]
     },
     "execution_count": 2,
     "metadata": {},
     "output_type": "execute_result"
    }
   ],
   "source": [
    "RRR = Robot((\n",
    "    [theta1, 0, l1, 0],\n",
    "    [theta2, 0, l2, 0],\n",
    "    [theta3, 0, l3, 0]\n",
    "))\n",
    "\n",
    "RRR.HTM(0, 3)"
   ]
  },
  {
   "attachments": {},
   "cell_type": "markdown",
   "metadata": {},
   "source": [
    "### Exemplo de robô RP, que descumpre DH:"
   ]
  },
  {
   "cell_type": "code",
   "execution_count": 2,
   "metadata": {},
   "outputs": [
    {
     "data": {
      "text/latex": [
       "$\\displaystyle \\left[\\begin{matrix}- s_{1} & 0 & c_{1} & c_{1} \\left(d₂ + l₁ + l₃\\right) - l₂ s_{1}\\\\c_{1} & 0 & s_{1} & c_{1} l₂ + s_{1} \\left(d₂ + l₁ + l₃\\right)\\\\0 & 1 & 0 & 0\\\\0 & 0 & 0 & 1\\end{matrix}\\right]$"
      ],
      "text/plain": [
       "⎡-s₁  0  c₁  c₁⋅(d₂ + l₁ + l₃) - l₂⋅s₁⎤\n",
       "⎢                                     ⎥\n",
       "⎢c₁   0  s₁  c₁⋅l₂ + s₁⋅(d₂ + l₁ + l₃)⎥\n",
       "⎢                                     ⎥\n",
       "⎢ 0   1  0               0            ⎥\n",
       "⎢                                     ⎥\n",
       "⎣ 0   0  0               1            ⎦"
      ]
     },
     "execution_count": 2,
     "metadata": {},
     "output_type": "execute_result"
    }
   ],
   "source": [
    "RP = Robot()\n",
    "\n",
    "RP.addDHLine(theta1+rad(90), 0, l2, rad(90))\n",
    "RP.addNonDHLine(0, 0, l1+l3+d2, 0, 0, 0)\n",
    "\n",
    "RP.HTM(0, 2)"
   ]
  },
  {
   "cell_type": "code",
   "execution_count": 3,
   "metadata": {},
   "outputs": [
    {
     "data": {
      "text/latex": [
       "$\\displaystyle \\left[\\begin{matrix}0 & 0 & 1 & l₁ + l₃ + 5\\\\1 & 0 & 0 & l₂\\\\0 & 1 & 0 & 0\\\\0 & 0 & 0 & 1\\end{matrix}\\right]$"
      ],
      "text/plain": [
       "⎡0  0  1  l₁ + l₃ + 5⎤\n",
       "⎢                    ⎥\n",
       "⎢1  0  0      l₂     ⎥\n",
       "⎢                    ⎥\n",
       "⎢0  1  0       0     ⎥\n",
       "⎢                    ⎥\n",
       "⎣0  0  0       1     ⎦"
      ]
     },
     "execution_count": 3,
     "metadata": {},
     "output_type": "execute_result"
    }
   ],
   "source": [
    "RP.POSE([rad(0), 5])"
   ]
  },
  {
   "attachments": {},
   "cell_type": "markdown",
   "metadata": {},
   "source": [
    "### Exemplo de robô 6R cotovelar de punho esférico:"
   ]
  },
  {
   "cell_type": "code",
   "execution_count": 2,
   "metadata": {},
   "outputs": [
    {
     "data": {
      "text/latex": [
       "$\\displaystyle \\left[\\begin{matrix}c_{6} \\left(c_{1} c_{23} s_{5} + c_{5} \\left(- c_{1} s_{23} s_{4} + c_{4} s_{1}\\right)\\right) - s_{6} \\left(c_{1} c_{4} s_{23} + s_{1} s_{4}\\right) & - c_{6} \\left(c_{1} c_{4} s_{23} + s_{1} s_{4}\\right) - s_{6} \\left(c_{1} c_{23} s_{5} + c_{5} \\left(- c_{1} s_{23} s_{4} + c_{4} s_{1}\\right)\\right) & c_{1} c_{23} c_{5} - s_{5} \\left(- c_{1} s_{23} s_{4} + c_{4} s_{1}\\right) & c_{1} \\left(c_{2} l₂ + c_{23} l₃\\right)\\\\- c_{6} \\left(- c_{23} s_{1} s_{5} + c_{5} \\left(c_{1} c_{4} + s_{1} s_{23} s_{4}\\right)\\right) - s_{6} \\left(- c_{1} s_{4} + c_{4} s_{1} s_{23}\\right) & - c_{6} \\left(- c_{1} s_{4} + c_{4} s_{1} s_{23}\\right) + s_{6} \\left(- c_{23} s_{1} s_{5} + c_{5} \\left(c_{1} c_{4} + s_{1} s_{23} s_{4}\\right)\\right) & c_{23} c_{5} s_{1} + s_{5} \\left(c_{1} c_{4} + s_{1} s_{23} s_{4}\\right) & s_{1} \\left(c_{2} l₂ + c_{23} l₃\\right)\\\\- c_{23} c_{4} s_{6} - c_{6} \\left(c_{23} c_{5} s_{4} + s_{23} s_{5}\\right) & - c_{23} c_{4} c_{6} + s_{6} \\left(c_{23} c_{5} s_{4} + s_{23} s_{5}\\right) & c_{23} s_{4} s_{5} - c_{5} s_{23} & - l₂ s_{2} - l₃ s_{23}\\\\0 & 0 & 0 & 1\\end{matrix}\\right]$"
      ],
      "text/plain": [
       "⎡ c₆⋅(c₁⋅c₂₃⋅s₅ + c₅⋅(-c₁⋅s₂₃⋅s₄ + c₄⋅s₁)) - s₆⋅(c₁⋅c₄⋅s₂₃ + s₁⋅s₄)   -c₆⋅(c₁⋅\n",
       "⎢                                                                             \n",
       "⎢-c₆⋅(-c₂₃⋅s₁⋅s₅ + c₅⋅(c₁⋅c₄ + s₁⋅s₂₃⋅s₄)) - s₆⋅(-c₁⋅s₄ + c₄⋅s₁⋅s₂₃)  -c₆⋅(-c₁\n",
       "⎢                                                                             \n",
       "⎢               -c₂₃⋅c₄⋅s₆ - c₆⋅(c₂₃⋅c₅⋅s₄ + s₂₃⋅s₅)                          \n",
       "⎢                                                                             \n",
       "⎣                                 0                                           \n",
       "\n",
       "c₄⋅s₂₃ + s₁⋅s₄) - s₆⋅(c₁⋅c₂₃⋅s₅ + c₅⋅(-c₁⋅s₂₃⋅s₄ + c₄⋅s₁))   c₁⋅c₂₃⋅c₅ - s₅⋅(-\n",
       "                                                                              \n",
       "⋅s₄ + c₄⋅s₁⋅s₂₃) + s₆⋅(-c₂₃⋅s₁⋅s₅ + c₅⋅(c₁⋅c₄ + s₁⋅s₂₃⋅s₄))  c₂₃⋅c₅⋅s₁ + s₅⋅(c\n",
       "                                                                              \n",
       "       -c₂₃⋅c₄⋅c₆ + s₆⋅(c₂₃⋅c₅⋅s₄ + s₂₃⋅s₅)                          c₂₃⋅s₄⋅s₅\n",
       "                                                                              \n",
       "                         0                                                    \n",
       "\n",
       "c₁⋅s₂₃⋅s₄ + c₄⋅s₁)  c₁⋅(c₂⋅l₂ + c₂₃⋅l₃)⎤\n",
       "                                       ⎥\n",
       "₁⋅c₄ + s₁⋅s₂₃⋅s₄)   s₁⋅(c₂⋅l₂ + c₂₃⋅l₃)⎥\n",
       "                                       ⎥\n",
       " - c₅⋅s₂₃             -l₂⋅s₂ - l₃⋅s₂₃  ⎥\n",
       "                                       ⎥\n",
       "0                            1         ⎦"
      ]
     },
     "execution_count": 2,
     "metadata": {},
     "output_type": "execute_result"
    }
   ],
   "source": [
    "valid = Robot([\n",
    "    [theta1, 0, 0, rad(-90)],\n",
    "    [theta2, 0, l2, 0],\n",
    "    [theta3-rad(90), 0, 0, rad(-90)],\n",
    "    [theta4+rad(90), l3, 0, rad(90)],\n",
    "    [theta5, 0, 0, rad(-90)],\n",
    "    [theta6, 0, 0, 0]\n",
    "])\n",
    "\n",
    "valid.HTM(0, 6)"
   ]
  }
 ],
 "metadata": {
  "kernelspec": {
   "display_name": "Python 3",
   "language": "python",
   "name": "python3"
  },
  "language_info": {
   "codemirror_mode": {
    "name": "ipython",
    "version": 3
   },
   "file_extension": ".py",
   "mimetype": "text/x-python",
   "name": "python",
   "nbconvert_exporter": "python",
   "pygments_lexer": "ipython3",
   "version": "3.11.1"
  },
  "orig_nbformat": 4
 },
 "nbformat": 4,
 "nbformat_minor": 2
}
