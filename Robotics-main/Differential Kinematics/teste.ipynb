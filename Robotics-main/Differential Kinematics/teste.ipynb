{
 "cells": [
  {
   "cell_type": "code",
   "execution_count": 1,
   "metadata": {},
   "outputs": [],
   "source": [
    "import numpy as np\n",
    "from FKM import *"
   ]
  },
  {
   "attachments": {},
   "cell_type": "markdown",
   "metadata": {},
   "source": [
    "### Definição da Tabela de Denavit Hartenberg:"
   ]
  },
  {
   "cell_type": "code",
   "execution_count": 2,
   "metadata": {},
   "outputs": [],
   "source": [
    "teste = Robot((\n",
    "    [theta1, l1, 0, rad(90)],\n",
    "    [theta2, 0, l2, 0]\n",
    "))"
   ]
  },
  {
   "attachments": {},
   "cell_type": "markdown",
   "metadata": {},
   "source": [
    "### $$\\text{Obtenção de } o_i^0 \\text{ :}$$"
   ]
  },
  {
   "cell_type": "code",
   "execution_count": 3,
   "metadata": {},
   "outputs": [
    {
     "data": {
      "text/latex": [
       "$\\displaystyle \\left[ \\left[\\begin{matrix}0\\\\0\\\\0\\end{matrix}\\right], \\  \\left[\\begin{matrix}0\\\\0\\\\l₁\\end{matrix}\\right], \\  \\left[\\begin{matrix}c_{1} c_{2} l₂\\\\c_{2} l₂ s_{1}\\\\l₁ + l₂ s_{2}\\end{matrix}\\right]\\right]$"
      ],
      "text/plain": [
       "⎡⎡0⎤  ⎡0 ⎤  ⎡ c₁⋅c₂⋅l₂ ⎤⎤\n",
       "⎢⎢ ⎥  ⎢  ⎥  ⎢          ⎥⎥\n",
       "⎢⎢0⎥, ⎢0 ⎥, ⎢ c₂⋅l₂⋅s₁ ⎥⎥\n",
       "⎢⎢ ⎥  ⎢  ⎥  ⎢          ⎥⎥\n",
       "⎣⎣0⎦  ⎣l₁⎦  ⎣l₁ + l₂⋅s₂⎦⎦"
      ]
     },
     "execution_count": 3,
     "metadata": {},
     "output_type": "execute_result"
    }
   ],
   "source": [
    "n = len(teste.T) #número de juntas\n",
    "\n",
    "o = [Matrix([[0], [0], [0]])]\n",
    "for i in range(1, n+1):\n",
    "    o.append(simplify(teste.HTM(0, i)[:3, 3]))\n",
    "\n",
    "o"
   ]
  },
  {
   "attachments": {},
   "cell_type": "markdown",
   "metadata": {},
   "source": [
    "### $$\\text{Obtenção de } Z_{i-1}^0 = R_{i-1}^0k \\text{ :}$$"
   ]
  },
  {
   "cell_type": "code",
   "execution_count": 4,
   "metadata": {},
   "outputs": [
    {
     "data": {
      "image/png": "[encoded data removed]",
      "text/latex": [
       "$\\displaystyle \\left[ \\left[\\begin{matrix}0\\\\0\\\\1\\end{matrix}\\right], \\  \\left[\\begin{matrix}s_{1}\\\\- c_{1}\\\\0\\end{matrix}\\right]\\right]$"
      ],
      "text/plain": [
       "⎡⎡0⎤  ⎡s₁ ⎤⎤\n",
       "⎢⎢ ⎥  ⎢   ⎥⎥\n",
       "⎢⎢0⎥, ⎢-c₁⎥⎥\n",
       "⎢⎢ ⎥  ⎢   ⎥⎥\n",
       "⎣⎣1⎦  ⎣ 0 ⎦⎦"
      ]
     },
     "execution_count": 4,
     "metadata": {},
     "output_type": "execute_result"
    }
   ],
   "source": [
    "z = [Matrix([[0], [0], [1]])]\n",
    "for i in range(1, n):\n",
    "    z.append(simplify(teste.HTM(0, i)[:3, 2]))\n",
    "\n",
    "z"
   ]
  },
  {
   "attachments": {},
   "cell_type": "markdown",
   "metadata": {},
   "source": [
    "### $$\\text{Obtenção do Jacobiano de velocidades lineares } J_{v_i} = z_{i-1}^0 \\times \\left( o_n^0 - o_{i-1}^0 \\right) \\text{ :}$$"
   ]
  },
  {
   "cell_type": "code",
   "execution_count": 5,
   "metadata": {},
   "outputs": [
    {
     "data": {
      "text/latex": [
       "$\\displaystyle \\left[ \\left[\\begin{matrix}- c_{2} l₂ s_{1}\\\\c_{1} c_{2} l₂\\\\0\\end{matrix}\\right], \\  \\left[\\begin{matrix}- c_{1} l₂ s_{2}\\\\- l₂ s_{1} s_{2}\\\\c_{2} l₂ \\left(c_{1}^{2} + s_{1}^{2}\\right)\\end{matrix}\\right]\\right]$"
      ],
      "text/plain": [
       "⎡             ⎡    -c₁⋅l₂⋅s₂    ⎤⎤\n",
       "⎢⎡-c₂⋅l₂⋅s₁⎤  ⎢                 ⎥⎥\n",
       "⎢⎢         ⎥  ⎢    -l₂⋅s₁⋅s₂    ⎥⎥\n",
       "⎢⎢c₁⋅c₂⋅l₂ ⎥, ⎢                 ⎥⎥\n",
       "⎢⎢         ⎥  ⎢      ⎛  2     2⎞⎥⎥\n",
       "⎣⎣    0    ⎦  ⎣c₂⋅l₂⋅⎝c₁  + s₁ ⎠⎦⎦"
      ]
     },
     "execution_count": 5,
     "metadata": {},
     "output_type": "execute_result"
    }
   ],
   "source": [
    "jv = []\n",
    "for i in range(1, n+1):\n",
    "    if(teste.rotational[i-1]):\n",
    "        jv.append(simplify(Matrix(np.cross(np.squeeze(z[i-1]), np.squeeze(o[-1] - o[i-1])).tolist())))\n",
    "    else:\n",
    "        jv.append(simplify(z[i-1]))\n",
    "\n",
    "jv"
   ]
  },
  {
   "attachments": {},
   "cell_type": "markdown",
   "metadata": {},
   "source": [
    "### $$\\text{Obtenção do Jacobiano de velocidades angulares } J_{\\omega_i} = z_{i-1}^0 \\text{ :}$$"
   ]
  },
  {
   "cell_type": "code",
   "execution_count": 6,
   "metadata": {},
   "outputs": [
    {
     "data": {
      "image/png": "[encoded data removed]",
      "text/latex": [
       "$\\displaystyle \\left[ \\left[\\begin{matrix}0\\\\0\\\\1\\end{matrix}\\right], \\  \\left[\\begin{matrix}s_{1}\\\\- c_{1}\\\\0\\end{matrix}\\right]\\right]$"
      ],
      "text/plain": [
       "⎡⎡0⎤  ⎡s₁ ⎤⎤\n",
       "⎢⎢ ⎥  ⎢   ⎥⎥\n",
       "⎢⎢0⎥, ⎢-c₁⎥⎥\n",
       "⎢⎢ ⎥  ⎢   ⎥⎥\n",
       "⎣⎣1⎦  ⎣ 0 ⎦⎦"
      ]
     },
     "execution_count": 6,
     "metadata": {},
     "output_type": "execute_result"
    }
   ],
   "source": [
    "jw = []\n",
    "for i in range(1, n+1):\n",
    "    if(teste.rotational[i-1]):\n",
    "        jw.append(simplify(z[i-1]))\n",
    "    else:\n",
    "        jw.append(Matrix([[0], [0], [0]]))\n",
    "\n",
    "jw"
   ]
  },
  {
   "attachments": {},
   "cell_type": "markdown",
   "metadata": {},
   "source": [
    "### $$\\text{Obtenção do Jacobiano de velocidades completo, tal que } \\xi = J(q)\\dot{q} \\text{ :}$$"
   ]
  },
  {
   "cell_type": "code",
   "execution_count": 7,
   "metadata": {},
   "outputs": [
    {
     "data": {
      "text/latex": [
       "$\\displaystyle \\left[\\begin{matrix}- c_{2} l₂ s_{1} & - c_{1} l₂ s_{2}\\\\c_{1} c_{2} l₂ & - l₂ s_{1} s_{2}\\\\0 & c_{2} l₂ \\left(c_{1}^{2} + s_{1}^{2}\\right)\\\\0 & s_{1}\\\\0 & - c_{1}\\\\1 & 0\\end{matrix}\\right]$"
      ],
      "text/plain": [
       "⎡-c₂⋅l₂⋅s₁      -c₁⋅l₂⋅s₂    ⎤\n",
       "⎢                            ⎥\n",
       "⎢c₁⋅c₂⋅l₂       -l₂⋅s₁⋅s₂    ⎥\n",
       "⎢                            ⎥\n",
       "⎢                 ⎛  2     2⎞⎥\n",
       "⎢    0      c₂⋅l₂⋅⎝c₁  + s₁ ⎠⎥\n",
       "⎢                            ⎥\n",
       "⎢    0             s₁        ⎥\n",
       "⎢                            ⎥\n",
       "⎢    0             -c₁       ⎥\n",
       "⎢                            ⎥\n",
       "⎣    1              0        ⎦"
      ]
     },
     "execution_count": 7,
     "metadata": {},
     "output_type": "execute_result"
    }
   ],
   "source": [
    "J = []\n",
    "for k in range(3):\n",
    "    J.append([])\n",
    "    for i in range(n):\n",
    "        J[k].append(simplify(jv[i][k]))\n",
    "for k in range(3):\n",
    "    J.append([])\n",
    "    for i in range(n):\n",
    "        J[k+3].append(simplify(jw[i][k]))\n",
    "\n",
    "Matrix(J)"
   ]
  }
 ],
 "metadata": {
  "kernelspec": {
   "display_name": "Python 3",
   "language": "python",
   "name": "python3"
  },
  "language_info": {
   "codemirror_mode": {
    "name": "ipython",
    "version": 3
   },
   "file_extension": ".py",
   "mimetype": "text/x-python",
   "name": "python",
   "nbconvert_exporter": "python",
   "pygments_lexer": "ipython3",
   "version": "3.11.1"
  },
  "orig_nbformat": 4
 },
 "nbformat": 4,
 "nbformat_minor": 2
}
