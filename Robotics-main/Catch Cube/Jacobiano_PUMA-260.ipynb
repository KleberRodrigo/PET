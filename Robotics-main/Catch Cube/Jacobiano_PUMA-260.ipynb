{
 "cells": [
  {
   "attachments": {},
   "cell_type": "markdown",
   "metadata": {},
   "source": [
    "<h1 align='center'>\n",
    "    Jacobiano do Manipulador PUMA 260\n",
    "<h1>"
   ]
  },
  {
   "attachments": {},
   "cell_type": "markdown",
   "metadata": {},
   "source": [
    "<div align=\"center\">\n",
    "    <img src=\"puma260.png\">\n",
    "</div>"
   ]
  },
  {
   "cell_type": "code",
   "execution_count": 1,
   "metadata": {},
   "outputs": [],
   "source": [
    "import numpy as np\n",
    "from FKM import *"
   ]
  },
  {
   "attachments": {},
   "cell_type": "markdown",
   "metadata": {},
   "source": [
    "### Definição da Tabela de Denavit Hartenberg:"
   ]
  },
  {
   "cell_type": "code",
   "execution_count": 2,
   "metadata": {},
   "outputs": [],
   "source": [
    "puma = Robot((\n",
    "    [theta1, 13, 0, rad(90)],\n",
    "    [theta2, 3, 8, 0],\n",
    "    [theta3+rad(90), 0, 0, rad(90)],\n",
    "    [theta4, 8, 0, rad(-90)],\n",
    "    [theta5-rad(90), 0, 0, rad(-90)],\n",
    "    [theta6, 4, 0, 0]\n",
    "))"
   ]
  },
  {
   "attachments": {},
   "cell_type": "markdown",
   "metadata": {},
   "source": [
    "### $$\\text{Obtenção de } o_i^0 \\text{ :}$$"
   ]
  },
  {
   "cell_type": "code",
   "execution_count": 3,
   "metadata": {},
   "outputs": [
    {
     "data": {
      "text/latex": [
       "$\\displaystyle \\left[ \\left[\\begin{matrix}0\\\\0\\\\0\\end{matrix}\\right], \\  \\left[\\begin{matrix}0\\\\0\\\\13\\end{matrix}\\right], \\  \\left[\\begin{matrix}3 \\sin{\\left(θ₁ \\right)} + 8 \\cos{\\left(θ₁ \\right)} \\cos{\\left(θ₂ \\right)}\\\\8 \\sin{\\left(θ₁ \\right)} \\cos{\\left(θ₂ \\right)} - 3 \\cos{\\left(θ₁ \\right)}\\\\8 \\sin{\\left(θ₂ \\right)} + 13\\end{matrix}\\right], \\  \\left[\\begin{matrix}3 \\sin{\\left(θ₁ \\right)} + 8 \\cos{\\left(θ₁ \\right)} \\cos{\\left(θ₂ \\right)}\\\\8 \\sin{\\left(θ₁ \\right)} \\cos{\\left(θ₂ \\right)} - 3 \\cos{\\left(θ₁ \\right)}\\\\8 \\sin{\\left(θ₂ \\right)} + 13\\end{matrix}\\right], \\  \\left[\\begin{matrix}3 \\sin{\\left(θ₁ \\right)} + 8 \\cos{\\left(θ₁ \\right)} \\cos{\\left(θ₂ \\right)} + 8 \\cos{\\left(θ₁ \\right)} \\cos{\\left(θ₂ + θ₃ \\right)}\\\\8 \\sin{\\left(θ₁ \\right)} \\cos{\\left(θ₂ \\right)} + 8 \\sin{\\left(θ₁ \\right)} \\cos{\\left(θ₂ + θ₃ \\right)} - 3 \\cos{\\left(θ₁ \\right)}\\\\8 \\sin{\\left(θ₂ \\right)} + 8 \\sin{\\left(θ₂ + θ₃ \\right)} + 13\\end{matrix}\\right], \\  \\left[\\begin{matrix}3 \\sin{\\left(θ₁ \\right)} + 8 \\cos{\\left(θ₁ \\right)} \\cos{\\left(θ₂ \\right)} + 8 \\cos{\\left(θ₁ \\right)} \\cos{\\left(θ₂ + θ₃ \\right)}\\\\8 \\sin{\\left(θ₁ \\right)} \\cos{\\left(θ₂ \\right)} + 8 \\sin{\\left(θ₁ \\right)} \\cos{\\left(θ₂ + θ₃ \\right)} - 3 \\cos{\\left(θ₁ \\right)}\\\\8 \\sin{\\left(θ₂ \\right)} + 8 \\sin{\\left(θ₂ + θ₃ \\right)} + 13\\end{matrix}\\right], \\  \\left[\\begin{matrix}4 \\left(\\sin{\\left(θ₁ \\right)} \\sin{\\left(θ₄ \\right)} - \\sin{\\left(θ₂ + θ₃ \\right)} \\cos{\\left(θ₁ \\right)} \\cos{\\left(θ₄ \\right)}\\right) \\cos{\\left(θ₅ \\right)} + 3 \\sin{\\left(θ₁ \\right)} - 4 \\sin{\\left(θ₅ \\right)} \\cos{\\left(θ₁ \\right)} \\cos{\\left(θ₂ + θ₃ \\right)} + 8 \\cos{\\left(θ₁ \\right)} \\cos{\\left(θ₂ \\right)} + 8 \\cos{\\left(θ₁ \\right)} \\cos{\\left(θ₂ + θ₃ \\right)}\\\\- 4 \\left(\\sin{\\left(θ₁ \\right)} \\sin{\\left(θ₂ + θ₃ \\right)} \\cos{\\left(θ₄ \\right)} + \\sin{\\left(θ₄ \\right)} \\cos{\\left(θ₁ \\right)}\\right) \\cos{\\left(θ₅ \\right)} - 4 \\sin{\\left(θ₁ \\right)} \\sin{\\left(θ₅ \\right)} \\cos{\\left(θ₂ + θ₃ \\right)} + 8 \\sin{\\left(θ₁ \\right)} \\cos{\\left(θ₂ \\right)} + 8 \\sin{\\left(θ₁ \\right)} \\cos{\\left(θ₂ + θ₃ \\right)} - 3 \\cos{\\left(θ₁ \\right)}\\\\8 \\sin{\\left(θ₂ \\right)} - 4 \\sin{\\left(θ₅ \\right)} \\sin{\\left(θ₂ + θ₃ \\right)} + 8 \\sin{\\left(θ₂ + θ₃ \\right)} + 4 \\cos{\\left(θ₄ \\right)} \\cos{\\left(θ₅ \\right)} \\cos{\\left(θ₂ + θ₃ \\right)} + 13\\end{matrix}\\right]\\right]$"
      ],
      "text/plain": [
       "⎡⎡0⎤  ⎡0 ⎤  ⎡3⋅sin(θ₁) + 8⋅cos(θ₁)⋅cos(θ₂)⎤  ⎡3⋅sin(θ₁) + 8⋅cos(θ₁)⋅cos(θ₂)⎤  \n",
       "⎢⎢ ⎥  ⎢  ⎥  ⎢                             ⎥  ⎢                             ⎥  \n",
       "⎢⎢0⎥, ⎢0 ⎥, ⎢8⋅sin(θ₁)⋅cos(θ₂) - 3⋅cos(θ₁)⎥, ⎢8⋅sin(θ₁)⋅cos(θ₂) - 3⋅cos(θ₁)⎥, \n",
       "⎢⎢ ⎥  ⎢  ⎥  ⎢                             ⎥  ⎢                             ⎥  \n",
       "⎣⎣0⎦  ⎣13⎦  ⎣       8⋅sin(θ₂) + 13        ⎦  ⎣       8⋅sin(θ₂) + 13        ⎦  \n",
       "\n",
       "⎡3⋅sin(θ₁) + 8⋅cos(θ₁)⋅cos(θ₂) + 8⋅cos(θ₁)⋅cos(θ₂ + θ₃)⎤  ⎡3⋅sin(θ₁) + 8⋅cos(θ\n",
       "⎢                                                      ⎥  ⎢                   \n",
       "⎢8⋅sin(θ₁)⋅cos(θ₂) + 8⋅sin(θ₁)⋅cos(θ₂ + θ₃) - 3⋅cos(θ₁)⎥, ⎢8⋅sin(θ₁)⋅cos(θ₂) +\n",
       "⎢                                                      ⎥  ⎢                   \n",
       "⎣           8⋅sin(θ₂) + 8⋅sin(θ₂ + θ₃) + 13            ⎦  ⎣           8⋅sin(θ₂\n",
       "\n",
       "₁)⋅cos(θ₂) + 8⋅cos(θ₁)⋅cos(θ₂ + θ₃)⎤  ⎡4⋅(sin(θ₁)⋅sin(θ₄) - sin(θ₂ + θ₃)⋅cos(θ\n",
       "                                   ⎥  ⎢                                       \n",
       " 8⋅sin(θ₁)⋅cos(θ₂ + θ₃) - 3⋅cos(θ₁)⎥, ⎢-4⋅(sin(θ₁)⋅sin(θ₂ + θ₃)⋅cos(θ₄) + sin(\n",
       "                                   ⎥  ⎢                                       \n",
       ") + 8⋅sin(θ₂ + θ₃) + 13            ⎦  ⎣                              8⋅sin(θ₂)\n",
       "\n",
       "₁)⋅cos(θ₄))⋅cos(θ₅) + 3⋅sin(θ₁) - 4⋅sin(θ₅)⋅cos(θ₁)⋅cos(θ₂ + θ₃) + 8⋅cos(θ₁)⋅c\n",
       "                                                                              \n",
       "θ₄)⋅cos(θ₁))⋅cos(θ₅) - 4⋅sin(θ₁)⋅sin(θ₅)⋅cos(θ₂ + θ₃) + 8⋅sin(θ₁)⋅cos(θ₂) + 8⋅\n",
       "                                                                              \n",
       " - 4⋅sin(θ₅)⋅sin(θ₂ + θ₃) + 8⋅sin(θ₂ + θ₃) + 4⋅cos(θ₄)⋅cos(θ₅)⋅cos(θ₂ + θ₃) + \n",
       "\n",
       "os(θ₂) + 8⋅cos(θ₁)⋅cos(θ₂ + θ₃) ⎤⎤\n",
       "                                ⎥⎥\n",
       "sin(θ₁)⋅cos(θ₂ + θ₃) - 3⋅cos(θ₁)⎥⎥\n",
       "                                ⎥⎥\n",
       "13                              ⎦⎦"
      ]
     },
     "execution_count": 3,
     "metadata": {},
     "output_type": "execute_result"
    }
   ],
   "source": [
    "n = len(puma.T) #número de juntas\n",
    "\n",
    "o = [Matrix([[0], [0], [0]])]\n",
    "for i in range(1, n+1):\n",
    "    o.append(simplify(puma.HTM(0, i, False)[:3, 3]))\n",
    "\n",
    "o"
   ]
  },
  {
   "attachments": {},
   "cell_type": "markdown",
   "metadata": {},
   "source": [
    "### $$\\text{Obtenção de } Z_{i-1}^0 = R_{i-1}^0k \\text{ :}$$"
   ]
  },
  {
   "cell_type": "code",
   "execution_count": 4,
   "metadata": {},
   "outputs": [
    {
     "data": {
      "text/latex": [
       "$\\displaystyle \\left[ \\left[\\begin{matrix}0\\\\0\\\\1\\end{matrix}\\right], \\  \\left[\\begin{matrix}\\sin{\\left(θ₁ \\right)}\\\\- \\cos{\\left(θ₁ \\right)}\\\\0\\end{matrix}\\right], \\  \\left[\\begin{matrix}\\sin{\\left(θ₁ \\right)}\\\\- \\cos{\\left(θ₁ \\right)}\\\\0\\end{matrix}\\right], \\  \\left[\\begin{matrix}\\cos{\\left(θ₁ \\right)} \\cos{\\left(θ₂ + θ₃ \\right)}\\\\\\sin{\\left(θ₁ \\right)} \\cos{\\left(θ₂ + θ₃ \\right)}\\\\\\sin{\\left(θ₂ + θ₃ \\right)}\\end{matrix}\\right], \\  \\left[\\begin{matrix}\\sin{\\left(θ₁ \\right)} \\cos{\\left(θ₄ \\right)} + \\sin{\\left(θ₄ \\right)} \\sin{\\left(θ₂ + θ₃ \\right)} \\cos{\\left(θ₁ \\right)}\\\\\\sin{\\left(θ₁ \\right)} \\sin{\\left(θ₄ \\right)} \\sin{\\left(θ₂ + θ₃ \\right)} - \\cos{\\left(θ₁ \\right)} \\cos{\\left(θ₄ \\right)}\\\\- \\sin{\\left(θ₄ \\right)} \\cos{\\left(θ₂ + θ₃ \\right)}\\end{matrix}\\right], \\  \\left[\\begin{matrix}\\left(\\sin{\\left(θ₁ \\right)} \\sin{\\left(θ₄ \\right)} - \\sin{\\left(θ₂ + θ₃ \\right)} \\cos{\\left(θ₁ \\right)} \\cos{\\left(θ₄ \\right)}\\right) \\cos{\\left(θ₅ \\right)} - \\sin{\\left(θ₅ \\right)} \\cos{\\left(θ₁ \\right)} \\cos{\\left(θ₂ + θ₃ \\right)}\\\\- \\left(\\sin{\\left(θ₁ \\right)} \\sin{\\left(θ₂ + θ₃ \\right)} \\cos{\\left(θ₄ \\right)} + \\sin{\\left(θ₄ \\right)} \\cos{\\left(θ₁ \\right)}\\right) \\cos{\\left(θ₅ \\right)} - \\sin{\\left(θ₁ \\right)} \\sin{\\left(θ₅ \\right)} \\cos{\\left(θ₂ + θ₃ \\right)}\\\\- \\sin{\\left(θ₅ \\right)} \\sin{\\left(θ₂ + θ₃ \\right)} + \\cos{\\left(θ₄ \\right)} \\cos{\\left(θ₅ \\right)} \\cos{\\left(θ₂ + θ₃ \\right)}\\end{matrix}\\right]\\right]$"
      ],
      "text/plain": [
       "⎡⎡0⎤  ⎡sin(θ₁) ⎤  ⎡sin(θ₁) ⎤  ⎡cos(θ₁)⋅cos(θ₂ + θ₃)⎤  ⎡sin(θ₁)⋅cos(θ₄) + sin(θ\n",
       "⎢⎢ ⎥  ⎢        ⎥  ⎢        ⎥  ⎢                    ⎥  ⎢                       \n",
       "⎢⎢0⎥, ⎢-cos(θ₁)⎥, ⎢-cos(θ₁)⎥, ⎢sin(θ₁)⋅cos(θ₂ + θ₃)⎥, ⎢sin(θ₁)⋅sin(θ₄)⋅sin(θ₂ \n",
       "⎢⎢ ⎥  ⎢        ⎥  ⎢        ⎥  ⎢                    ⎥  ⎢                       \n",
       "⎣⎣1⎦  ⎣   0    ⎦  ⎣   0    ⎦  ⎣    sin(θ₂ + θ₃)    ⎦  ⎣            -sin(θ₄)⋅co\n",
       "\n",
       "₄)⋅sin(θ₂ + θ₃)⋅cos(θ₁)⎤  ⎡(sin(θ₁)⋅sin(θ₄) - sin(θ₂ + θ₃)⋅cos(θ₁)⋅cos(θ₄))⋅co\n",
       "                       ⎥  ⎢                                                   \n",
       "+ θ₃) - cos(θ₁)⋅cos(θ₄)⎥, ⎢-(sin(θ₁)⋅sin(θ₂ + θ₃)⋅cos(θ₄) + sin(θ₄)⋅cos(θ₁))⋅c\n",
       "                       ⎥  ⎢                                                   \n",
       "s(θ₂ + θ₃)             ⎦  ⎣                  -sin(θ₅)⋅sin(θ₂ + θ₃) + cos(θ₄)⋅c\n",
       "\n",
       "s(θ₅) - sin(θ₅)⋅cos(θ₁)⋅cos(θ₂ + θ₃) ⎤⎤\n",
       "                                     ⎥⎥\n",
       "os(θ₅) - sin(θ₁)⋅sin(θ₅)⋅cos(θ₂ + θ₃)⎥⎥\n",
       "                                     ⎥⎥\n",
       "os(θ₅)⋅cos(θ₂ + θ₃)                  ⎦⎦"
      ]
     },
     "execution_count": 4,
     "metadata": {},
     "output_type": "execute_result"
    }
   ],
   "source": [
    "z = [Matrix([[0], [0], [1]])]\n",
    "for i in range(1, n):\n",
    "    z.append(simplify(puma.HTM(0, i, False)[:3, 2]))\n",
    "\n",
    "z"
   ]
  },
  {
   "attachments": {},
   "cell_type": "markdown",
   "metadata": {},
   "source": [
    "### $$\\text{Obtenção do Jacobiano de velocidades lineares } J_{v_i} = z_{i-1}^0 \\times \\left( o_n^0 - o_{i-1}^0 \\right) \\text{ :}$$"
   ]
  },
  {
   "cell_type": "code",
   "execution_count": 5,
   "metadata": {},
   "outputs": [
    {
     "data": {
      "text/latex": [
       "$\\displaystyle \\left[ \\left[\\begin{matrix}4 \\left(\\sin{\\left(θ₁ \\right)} \\sin{\\left(θ₂ + θ₃ \\right)} \\cos{\\left(θ₄ \\right)} + \\sin{\\left(θ₄ \\right)} \\cos{\\left(θ₁ \\right)}\\right) \\cos{\\left(θ₅ \\right)} + 4 \\sin{\\left(θ₁ \\right)} \\sin{\\left(θ₅ \\right)} \\cos{\\left(θ₂ + θ₃ \\right)} - 8 \\sin{\\left(θ₁ \\right)} \\cos{\\left(θ₂ \\right)} - 8 \\sin{\\left(θ₁ \\right)} \\cos{\\left(θ₂ + θ₃ \\right)} + 3 \\cos{\\left(θ₁ \\right)}\\\\4 \\left(\\sin{\\left(θ₁ \\right)} \\sin{\\left(θ₄ \\right)} - \\sin{\\left(θ₂ + θ₃ \\right)} \\cos{\\left(θ₁ \\right)} \\cos{\\left(θ₄ \\right)}\\right) \\cos{\\left(θ₅ \\right)} + 3 \\sin{\\left(θ₁ \\right)} - 4 \\sin{\\left(θ₅ \\right)} \\cos{\\left(θ₁ \\right)} \\cos{\\left(θ₂ + θ₃ \\right)} + 8 \\cos{\\left(θ₁ \\right)} \\cos{\\left(θ₂ \\right)} + 8 \\cos{\\left(θ₁ \\right)} \\cos{\\left(θ₂ + θ₃ \\right)}\\\\0\\end{matrix}\\right], \\  \\left[\\begin{matrix}4 \\left(- 2 \\sin{\\left(θ₂ \\right)} + \\sin{\\left(θ₅ \\right)} \\sin{\\left(θ₂ + θ₃ \\right)} - 2 \\sin{\\left(θ₂ + θ₃ \\right)} - \\cos{\\left(θ₄ \\right)} \\cos{\\left(θ₅ \\right)} \\cos{\\left(θ₂ + θ₃ \\right)}\\right) \\cos{\\left(θ₁ \\right)}\\\\4 \\left(- 2 \\sin{\\left(θ₂ \\right)} + \\sin{\\left(θ₅ \\right)} \\sin{\\left(θ₂ + θ₃ \\right)} - 2 \\sin{\\left(θ₂ + θ₃ \\right)} - \\cos{\\left(θ₄ \\right)} \\cos{\\left(θ₅ \\right)} \\cos{\\left(θ₂ + θ₃ \\right)}\\right) \\sin{\\left(θ₁ \\right)}\\\\- 4 \\sin{\\left(θ₅ \\right)} \\cos{\\left(θ₂ + θ₃ \\right)} - 4 \\sin{\\left(θ₂ + θ₃ \\right)} \\cos{\\left(θ₄ \\right)} \\cos{\\left(θ₅ \\right)} + 8 \\cos{\\left(θ₂ \\right)} + 8 \\cos{\\left(θ₂ + θ₃ \\right)}\\end{matrix}\\right], \\  \\left[\\begin{matrix}4 \\left(\\sin{\\left(θ₅ \\right)} \\sin{\\left(θ₂ + θ₃ \\right)} - 2 \\sin{\\left(θ₂ + θ₃ \\right)} - \\cos{\\left(θ₄ \\right)} \\cos{\\left(θ₅ \\right)} \\cos{\\left(θ₂ + θ₃ \\right)}\\right) \\cos{\\left(θ₁ \\right)}\\\\4 \\left(\\sin{\\left(θ₅ \\right)} \\sin{\\left(θ₂ + θ₃ \\right)} - 2 \\sin{\\left(θ₂ + θ₃ \\right)} - \\cos{\\left(θ₄ \\right)} \\cos{\\left(θ₅ \\right)} \\cos{\\left(θ₂ + θ₃ \\right)}\\right) \\sin{\\left(θ₁ \\right)}\\\\- 4 \\sin{\\left(θ₅ \\right)} \\cos{\\left(θ₂ + θ₃ \\right)} - 4 \\sin{\\left(θ₂ + θ₃ \\right)} \\cos{\\left(θ₄ \\right)} \\cos{\\left(θ₅ \\right)} + 8 \\cos{\\left(θ₂ + θ₃ \\right)}\\end{matrix}\\right], \\  \\left[\\begin{matrix}4 \\left(\\sin{\\left(θ₁ \\right)} \\cos{\\left(θ₄ \\right)} + \\sin{\\left(θ₄ \\right)} \\sin{\\left(θ₂ + θ₃ \\right)} \\cos{\\left(θ₁ \\right)}\\right) \\cos{\\left(θ₅ \\right)}\\\\4 \\left(\\sin{\\left(θ₁ \\right)} \\sin{\\left(θ₄ \\right)} \\sin{\\left(θ₂ + θ₃ \\right)} - \\cos{\\left(θ₁ \\right)} \\cos{\\left(θ₄ \\right)}\\right) \\cos{\\left(θ₅ \\right)}\\\\- 4 \\sin{\\left(θ₄ \\right)} \\cos{\\left(θ₅ \\right)} \\cos{\\left(θ₂ + θ₃ \\right)}\\end{matrix}\\right], \\  \\left[\\begin{matrix}- 4 \\sin{\\left(θ₁ \\right)} \\sin{\\left(θ₄ \\right)} \\sin{\\left(θ₅ \\right)} + 4 \\sin{\\left(θ₅ \\right)} \\sin{\\left(θ₂ + θ₃ \\right)} \\cos{\\left(θ₁ \\right)} \\cos{\\left(θ₄ \\right)} - 4 \\cos{\\left(θ₁ \\right)} \\cos{\\left(θ₅ \\right)} \\cos{\\left(θ₂ + θ₃ \\right)}\\\\4 \\sin{\\left(θ₁ \\right)} \\sin{\\left(θ₅ \\right)} \\sin{\\left(θ₂ + θ₃ \\right)} \\cos{\\left(θ₄ \\right)} - 4 \\sin{\\left(θ₁ \\right)} \\cos{\\left(θ₅ \\right)} \\cos{\\left(θ₂ + θ₃ \\right)} + 4 \\sin{\\left(θ₄ \\right)} \\sin{\\left(θ₅ \\right)} \\cos{\\left(θ₁ \\right)}\\\\- 4 \\sin{\\left(θ₅ \\right)} \\cos{\\left(θ₄ \\right)} \\cos{\\left(θ₂ + θ₃ \\right)} - 4 \\sin{\\left(θ₂ + θ₃ \\right)} \\cos{\\left(θ₅ \\right)}\\end{matrix}\\right], \\  \\left[\\begin{matrix}0\\\\0\\\\0\\end{matrix}\\right]\\right]$"
      ],
      "text/plain": [
       "⎡⎡4⋅(sin(θ₁)⋅sin(θ₂ + θ₃)⋅cos(θ₄) + sin(θ₄)⋅cos(θ₁))⋅cos(θ₅) + 4⋅sin(θ₁)⋅sin(θ\n",
       "⎢⎢                                                                            \n",
       "⎢⎢4⋅(sin(θ₁)⋅sin(θ₄) - sin(θ₂ + θ₃)⋅cos(θ₁)⋅cos(θ₄))⋅cos(θ₅) + 3⋅sin(θ₁) - 4⋅s\n",
       "⎢⎢                                                                            \n",
       "⎣⎣                                                                         0  \n",
       "\n",
       "₅)⋅cos(θ₂ + θ₃) - 8⋅sin(θ₁)⋅cos(θ₂) - 8⋅sin(θ₁)⋅cos(θ₂ + θ₃) + 3⋅cos(θ₁)⎤  ⎡4⋅\n",
       "                                                                        ⎥  ⎢  \n",
       "in(θ₅)⋅cos(θ₁)⋅cos(θ₂ + θ₃) + 8⋅cos(θ₁)⋅cos(θ₂) + 8⋅cos(θ₁)⋅cos(θ₂ + θ₃)⎥, ⎢4⋅\n",
       "                                                                        ⎥  ⎢  \n",
       "                                                                        ⎦  ⎣  \n",
       "\n",
       "(-2⋅sin(θ₂) + sin(θ₅)⋅sin(θ₂ + θ₃) - 2⋅sin(θ₂ + θ₃) - cos(θ₄)⋅cos(θ₅)⋅cos(θ₂ +\n",
       "                                                                              \n",
       "(-2⋅sin(θ₂) + sin(θ₅)⋅sin(θ₂ + θ₃) - 2⋅sin(θ₂ + θ₃) - cos(θ₄)⋅cos(θ₅)⋅cos(θ₂ +\n",
       "                                                                              \n",
       "  -4⋅sin(θ₅)⋅cos(θ₂ + θ₃) - 4⋅sin(θ₂ + θ₃)⋅cos(θ₄)⋅cos(θ₅) + 8⋅cos(θ₂) + 8⋅cos\n",
       "\n",
       " θ₃))⋅cos(θ₁)⎤  ⎡4⋅(sin(θ₅)⋅sin(θ₂ + θ₃) - 2⋅sin(θ₂ + θ₃) - cos(θ₄)⋅cos(θ₅)⋅co\n",
       "             ⎥  ⎢                                                             \n",
       " θ₃))⋅sin(θ₁)⎥, ⎢4⋅(sin(θ₅)⋅sin(θ₂ + θ₃) - 2⋅sin(θ₂ + θ₃) - cos(θ₄)⋅cos(θ₅)⋅co\n",
       "             ⎥  ⎢                                                             \n",
       "(θ₂ + θ₃)    ⎦  ⎣   -4⋅sin(θ₅)⋅cos(θ₂ + θ₃) - 4⋅sin(θ₂ + θ₃)⋅cos(θ₄)⋅cos(θ₅) +\n",
       "\n",
       "s(θ₂ + θ₃))⋅cos(θ₁)⎤  ⎡4⋅(sin(θ₁)⋅cos(θ₄) + sin(θ₄)⋅sin(θ₂ + θ₃)⋅cos(θ₁))⋅cos(\n",
       "                   ⎥  ⎢                                                       \n",
       "s(θ₂ + θ₃))⋅sin(θ₁)⎥, ⎢4⋅(sin(θ₁)⋅sin(θ₄)⋅sin(θ₂ + θ₃) - cos(θ₁)⋅cos(θ₄))⋅cos(\n",
       "                   ⎥  ⎢                                                       \n",
       " 8⋅cos(θ₂ + θ₃)    ⎦  ⎣             -4⋅sin(θ₄)⋅cos(θ₅)⋅cos(θ₂ + θ₃)           \n",
       "\n",
       "θ₅)⎤  ⎡-4⋅sin(θ₁)⋅sin(θ₄)⋅sin(θ₅) + 4⋅sin(θ₅)⋅sin(θ₂ + θ₃)⋅cos(θ₁)⋅cos(θ₄) - 4\n",
       "   ⎥  ⎢                                                                       \n",
       "θ₅)⎥, ⎢4⋅sin(θ₁)⋅sin(θ₅)⋅sin(θ₂ + θ₃)⋅cos(θ₄) - 4⋅sin(θ₁)⋅cos(θ₅)⋅cos(θ₂ + θ₃)\n",
       "   ⎥  ⎢                                                                       \n",
       "   ⎦  ⎣                      -4⋅sin(θ₅)⋅cos(θ₄)⋅cos(θ₂ + θ₃) - 4⋅sin(θ₂ + θ₃)⋅\n",
       "\n",
       "⋅cos(θ₁)⋅cos(θ₅)⋅cos(θ₂ + θ₃)⎤  ⎡0⎤⎤\n",
       "                             ⎥  ⎢ ⎥⎥\n",
       " + 4⋅sin(θ₄)⋅sin(θ₅)⋅cos(θ₁) ⎥, ⎢0⎥⎥\n",
       "                             ⎥  ⎢ ⎥⎥\n",
       "cos(θ₅)                      ⎦  ⎣0⎦⎦"
      ]
     },
     "execution_count": 5,
     "metadata": {},
     "output_type": "execute_result"
    }
   ],
   "source": [
    "jv = []\n",
    "for i in range(1, n+1):\n",
    "    if(puma.rotational[i-1]):\n",
    "        jv.append(simplify(Matrix(np.cross(np.squeeze(z[i-1]), np.squeeze(o[-1] - o[i-1])).tolist())))\n",
    "    else:\n",
    "        jv.append(simplify(z[i-1]))\n",
    "\n",
    "jv"
   ]
  },
  {
   "attachments": {},
   "cell_type": "markdown",
   "metadata": {},
   "source": [
    "### $$\\text{Obtenção do Jacobiano de velocidades angulares } J_{\\omega_i} = z_{i-1}^0 \\text{ :}$$"
   ]
  },
  {
   "cell_type": "code",
   "execution_count": 6,
   "metadata": {},
   "outputs": [
    {
     "data": {
      "text/latex": [
       "$\\displaystyle \\left[ \\left[\\begin{matrix}0\\\\0\\\\1\\end{matrix}\\right], \\  \\left[\\begin{matrix}\\sin{\\left(θ₁ \\right)}\\\\- \\cos{\\left(θ₁ \\right)}\\\\0\\end{matrix}\\right], \\  \\left[\\begin{matrix}\\sin{\\left(θ₁ \\right)}\\\\- \\cos{\\left(θ₁ \\right)}\\\\0\\end{matrix}\\right], \\  \\left[\\begin{matrix}\\cos{\\left(θ₁ \\right)} \\cos{\\left(θ₂ + θ₃ \\right)}\\\\\\sin{\\left(θ₁ \\right)} \\cos{\\left(θ₂ + θ₃ \\right)}\\\\\\sin{\\left(θ₂ + θ₃ \\right)}\\end{matrix}\\right], \\  \\left[\\begin{matrix}\\sin{\\left(θ₁ \\right)} \\cos{\\left(θ₄ \\right)} + \\sin{\\left(θ₄ \\right)} \\sin{\\left(θ₂ + θ₃ \\right)} \\cos{\\left(θ₁ \\right)}\\\\\\sin{\\left(θ₁ \\right)} \\sin{\\left(θ₄ \\right)} \\sin{\\left(θ₂ + θ₃ \\right)} - \\cos{\\left(θ₁ \\right)} \\cos{\\left(θ₄ \\right)}\\\\- \\sin{\\left(θ₄ \\right)} \\cos{\\left(θ₂ + θ₃ \\right)}\\end{matrix}\\right], \\  \\left[\\begin{matrix}\\left(\\sin{\\left(θ₁ \\right)} \\sin{\\left(θ₄ \\right)} - \\sin{\\left(θ₂ + θ₃ \\right)} \\cos{\\left(θ₁ \\right)} \\cos{\\left(θ₄ \\right)}\\right) \\cos{\\left(θ₅ \\right)} - \\sin{\\left(θ₅ \\right)} \\cos{\\left(θ₁ \\right)} \\cos{\\left(θ₂ + θ₃ \\right)}\\\\- \\left(\\sin{\\left(θ₁ \\right)} \\sin{\\left(θ₂ + θ₃ \\right)} \\cos{\\left(θ₄ \\right)} + \\sin{\\left(θ₄ \\right)} \\cos{\\left(θ₁ \\right)}\\right) \\cos{\\left(θ₅ \\right)} - \\sin{\\left(θ₁ \\right)} \\sin{\\left(θ₅ \\right)} \\cos{\\left(θ₂ + θ₃ \\right)}\\\\- \\sin{\\left(θ₅ \\right)} \\sin{\\left(θ₂ + θ₃ \\right)} + \\cos{\\left(θ₄ \\right)} \\cos{\\left(θ₅ \\right)} \\cos{\\left(θ₂ + θ₃ \\right)}\\end{matrix}\\right]\\right]$"
      ],
      "text/plain": [
       "⎡⎡0⎤  ⎡sin(θ₁) ⎤  ⎡sin(θ₁) ⎤  ⎡cos(θ₁)⋅cos(θ₂ + θ₃)⎤  ⎡sin(θ₁)⋅cos(θ₄) + sin(θ\n",
       "⎢⎢ ⎥  ⎢        ⎥  ⎢        ⎥  ⎢                    ⎥  ⎢                       \n",
       "⎢⎢0⎥, ⎢-cos(θ₁)⎥, ⎢-cos(θ₁)⎥, ⎢sin(θ₁)⋅cos(θ₂ + θ₃)⎥, ⎢sin(θ₁)⋅sin(θ₄)⋅sin(θ₂ \n",
       "⎢⎢ ⎥  ⎢        ⎥  ⎢        ⎥  ⎢                    ⎥  ⎢                       \n",
       "⎣⎣1⎦  ⎣   0    ⎦  ⎣   0    ⎦  ⎣    sin(θ₂ + θ₃)    ⎦  ⎣            -sin(θ₄)⋅co\n",
       "\n",
       "₄)⋅sin(θ₂ + θ₃)⋅cos(θ₁)⎤  ⎡(sin(θ₁)⋅sin(θ₄) - sin(θ₂ + θ₃)⋅cos(θ₁)⋅cos(θ₄))⋅co\n",
       "                       ⎥  ⎢                                                   \n",
       "+ θ₃) - cos(θ₁)⋅cos(θ₄)⎥, ⎢-(sin(θ₁)⋅sin(θ₂ + θ₃)⋅cos(θ₄) + sin(θ₄)⋅cos(θ₁))⋅c\n",
       "                       ⎥  ⎢                                                   \n",
       "s(θ₂ + θ₃)             ⎦  ⎣                  -sin(θ₅)⋅sin(θ₂ + θ₃) + cos(θ₄)⋅c\n",
       "\n",
       "s(θ₅) - sin(θ₅)⋅cos(θ₁)⋅cos(θ₂ + θ₃) ⎤⎤\n",
       "                                     ⎥⎥\n",
       "os(θ₅) - sin(θ₁)⋅sin(θ₅)⋅cos(θ₂ + θ₃)⎥⎥\n",
       "                                     ⎥⎥\n",
       "os(θ₅)⋅cos(θ₂ + θ₃)                  ⎦⎦"
      ]
     },
     "execution_count": 6,
     "metadata": {},
     "output_type": "execute_result"
    }
   ],
   "source": [
    "jw = []\n",
    "for i in range(1, n+1):\n",
    "    if(puma.rotational[i-1]):\n",
    "        jw.append(simplify(z[i-1]))\n",
    "    else:\n",
    "        jw.append(Matrix([[0], [0], [0]]))\n",
    "\n",
    "jw"
   ]
  },
  {
   "attachments": {},
   "cell_type": "markdown",
   "metadata": {},
   "source": [
    "### $$\\text{Obtenção do Jacobiano de velocidades completo, tal que } \\xi = J(q)\\dot{q} \\text{ :}$$"
   ]
  },
  {
   "cell_type": "code",
   "execution_count": 7,
   "metadata": {},
   "outputs": [
    {
     "data": {
      "text/latex": [
       "$\\displaystyle \\left[\\begin{matrix}4 \\left(\\sin{\\left(θ₁ \\right)} \\sin{\\left(θ₂ + θ₃ \\right)} \\cos{\\left(θ₄ \\right)} + \\sin{\\left(θ₄ \\right)} \\cos{\\left(θ₁ \\right)}\\right) \\cos{\\left(θ₅ \\right)} + 4 \\sin{\\left(θ₁ \\right)} \\sin{\\left(θ₅ \\right)} \\cos{\\left(θ₂ + θ₃ \\right)} - 8 \\sin{\\left(θ₁ \\right)} \\cos{\\left(θ₂ \\right)} - 8 \\sin{\\left(θ₁ \\right)} \\cos{\\left(θ₂ + θ₃ \\right)} + 3 \\cos{\\left(θ₁ \\right)} & 4 \\left(- 2 \\sin{\\left(θ₂ \\right)} + \\sin{\\left(θ₅ \\right)} \\sin{\\left(θ₂ + θ₃ \\right)} - 2 \\sin{\\left(θ₂ + θ₃ \\right)} - \\cos{\\left(θ₄ \\right)} \\cos{\\left(θ₅ \\right)} \\cos{\\left(θ₂ + θ₃ \\right)}\\right) \\cos{\\left(θ₁ \\right)} & 4 \\left(\\sin{\\left(θ₅ \\right)} \\sin{\\left(θ₂ + θ₃ \\right)} - 2 \\sin{\\left(θ₂ + θ₃ \\right)} - \\cos{\\left(θ₄ \\right)} \\cos{\\left(θ₅ \\right)} \\cos{\\left(θ₂ + θ₃ \\right)}\\right) \\cos{\\left(θ₁ \\right)} & 4 \\left(\\sin{\\left(θ₁ \\right)} \\cos{\\left(θ₄ \\right)} + \\sin{\\left(θ₄ \\right)} \\sin{\\left(θ₂ + θ₃ \\right)} \\cos{\\left(θ₁ \\right)}\\right) \\cos{\\left(θ₅ \\right)} & - 4 \\sin{\\left(θ₁ \\right)} \\sin{\\left(θ₄ \\right)} \\sin{\\left(θ₅ \\right)} + 4 \\sin{\\left(θ₅ \\right)} \\sin{\\left(θ₂ + θ₃ \\right)} \\cos{\\left(θ₁ \\right)} \\cos{\\left(θ₄ \\right)} - 4 \\cos{\\left(θ₁ \\right)} \\cos{\\left(θ₅ \\right)} \\cos{\\left(θ₂ + θ₃ \\right)} & 0\\\\4 \\left(\\sin{\\left(θ₁ \\right)} \\sin{\\left(θ₄ \\right)} - \\sin{\\left(θ₂ + θ₃ \\right)} \\cos{\\left(θ₁ \\right)} \\cos{\\left(θ₄ \\right)}\\right) \\cos{\\left(θ₅ \\right)} + 3 \\sin{\\left(θ₁ \\right)} - 4 \\sin{\\left(θ₅ \\right)} \\cos{\\left(θ₁ \\right)} \\cos{\\left(θ₂ + θ₃ \\right)} + 8 \\cos{\\left(θ₁ \\right)} \\cos{\\left(θ₂ \\right)} + 8 \\cos{\\left(θ₁ \\right)} \\cos{\\left(θ₂ + θ₃ \\right)} & 4 \\left(- 2 \\sin{\\left(θ₂ \\right)} + \\sin{\\left(θ₅ \\right)} \\sin{\\left(θ₂ + θ₃ \\right)} - 2 \\sin{\\left(θ₂ + θ₃ \\right)} - \\cos{\\left(θ₄ \\right)} \\cos{\\left(θ₅ \\right)} \\cos{\\left(θ₂ + θ₃ \\right)}\\right) \\sin{\\left(θ₁ \\right)} & 4 \\left(\\sin{\\left(θ₅ \\right)} \\sin{\\left(θ₂ + θ₃ \\right)} - 2 \\sin{\\left(θ₂ + θ₃ \\right)} - \\cos{\\left(θ₄ \\right)} \\cos{\\left(θ₅ \\right)} \\cos{\\left(θ₂ + θ₃ \\right)}\\right) \\sin{\\left(θ₁ \\right)} & 4 \\left(\\sin{\\left(θ₁ \\right)} \\sin{\\left(θ₄ \\right)} \\sin{\\left(θ₂ + θ₃ \\right)} - \\cos{\\left(θ₁ \\right)} \\cos{\\left(θ₄ \\right)}\\right) \\cos{\\left(θ₅ \\right)} & 4 \\sin{\\left(θ₁ \\right)} \\sin{\\left(θ₅ \\right)} \\sin{\\left(θ₂ + θ₃ \\right)} \\cos{\\left(θ₄ \\right)} - 4 \\sin{\\left(θ₁ \\right)} \\cos{\\left(θ₅ \\right)} \\cos{\\left(θ₂ + θ₃ \\right)} + 4 \\sin{\\left(θ₄ \\right)} \\sin{\\left(θ₅ \\right)} \\cos{\\left(θ₁ \\right)} & 0\\\\0 & - 4 \\sin{\\left(θ₅ \\right)} \\cos{\\left(θ₂ + θ₃ \\right)} - 4 \\sin{\\left(θ₂ + θ₃ \\right)} \\cos{\\left(θ₄ \\right)} \\cos{\\left(θ₅ \\right)} + 8 \\cos{\\left(θ₂ \\right)} + 8 \\cos{\\left(θ₂ + θ₃ \\right)} & - 4 \\sin{\\left(θ₅ \\right)} \\cos{\\left(θ₂ + θ₃ \\right)} - 4 \\sin{\\left(θ₂ + θ₃ \\right)} \\cos{\\left(θ₄ \\right)} \\cos{\\left(θ₅ \\right)} + 8 \\cos{\\left(θ₂ + θ₃ \\right)} & - 4 \\sin{\\left(θ₄ \\right)} \\cos{\\left(θ₅ \\right)} \\cos{\\left(θ₂ + θ₃ \\right)} & - 4 \\sin{\\left(θ₅ \\right)} \\cos{\\left(θ₄ \\right)} \\cos{\\left(θ₂ + θ₃ \\right)} - 4 \\sin{\\left(θ₂ + θ₃ \\right)} \\cos{\\left(θ₅ \\right)} & 0\\\\0 & \\sin{\\left(θ₁ \\right)} & \\sin{\\left(θ₁ \\right)} & \\cos{\\left(θ₁ \\right)} \\cos{\\left(θ₂ + θ₃ \\right)} & \\sin{\\left(θ₁ \\right)} \\cos{\\left(θ₄ \\right)} + \\sin{\\left(θ₄ \\right)} \\sin{\\left(θ₂ + θ₃ \\right)} \\cos{\\left(θ₁ \\right)} & \\left(\\sin{\\left(θ₁ \\right)} \\sin{\\left(θ₄ \\right)} - \\sin{\\left(θ₂ + θ₃ \\right)} \\cos{\\left(θ₁ \\right)} \\cos{\\left(θ₄ \\right)}\\right) \\cos{\\left(θ₅ \\right)} - \\sin{\\left(θ₅ \\right)} \\cos{\\left(θ₁ \\right)} \\cos{\\left(θ₂ + θ₃ \\right)}\\\\0 & - \\cos{\\left(θ₁ \\right)} & - \\cos{\\left(θ₁ \\right)} & \\sin{\\left(θ₁ \\right)} \\cos{\\left(θ₂ + θ₃ \\right)} & \\sin{\\left(θ₁ \\right)} \\sin{\\left(θ₄ \\right)} \\sin{\\left(θ₂ + θ₃ \\right)} - \\cos{\\left(θ₁ \\right)} \\cos{\\left(θ₄ \\right)} & - \\left(\\sin{\\left(θ₁ \\right)} \\sin{\\left(θ₂ + θ₃ \\right)} \\cos{\\left(θ₄ \\right)} + \\sin{\\left(θ₄ \\right)} \\cos{\\left(θ₁ \\right)}\\right) \\cos{\\left(θ₅ \\right)} - \\sin{\\left(θ₁ \\right)} \\sin{\\left(θ₅ \\right)} \\cos{\\left(θ₂ + θ₃ \\right)}\\\\1 & 0 & 0 & \\sin{\\left(θ₂ + θ₃ \\right)} & - \\sin{\\left(θ₄ \\right)} \\cos{\\left(θ₂ + θ₃ \\right)} & - \\sin{\\left(θ₅ \\right)} \\sin{\\left(θ₂ + θ₃ \\right)} + \\cos{\\left(θ₄ \\right)} \\cos{\\left(θ₅ \\right)} \\cos{\\left(θ₂ + θ₃ \\right)}\\end{matrix}\\right]$"
      ],
      "text/plain": [
       "⎡4⋅(sin(θ₁)⋅sin(θ₂ + θ₃)⋅cos(θ₄) + sin(θ₄)⋅cos(θ₁))⋅cos(θ₅) + 4⋅sin(θ₁)⋅sin(θ₅\n",
       "⎢                                                                             \n",
       "⎢4⋅(sin(θ₁)⋅sin(θ₄) - sin(θ₂ + θ₃)⋅cos(θ₁)⋅cos(θ₄))⋅cos(θ₅) + 3⋅sin(θ₁) - 4⋅si\n",
       "⎢                                                                             \n",
       "⎢                                                                         0   \n",
       "⎢                                                                             \n",
       "⎢                                                                         0   \n",
       "⎢                                                                             \n",
       "⎢                                                                         0   \n",
       "⎢                                                                             \n",
       "⎣                                                                         1   \n",
       "\n",
       ")⋅cos(θ₂ + θ₃) - 8⋅sin(θ₁)⋅cos(θ₂) - 8⋅sin(θ₁)⋅cos(θ₂ + θ₃) + 3⋅cos(θ₁)  4⋅(-2\n",
       "                                                                              \n",
       "n(θ₅)⋅cos(θ₁)⋅cos(θ₂ + θ₃) + 8⋅cos(θ₁)⋅cos(θ₂) + 8⋅cos(θ₁)⋅cos(θ₂ + θ₃)  4⋅(-2\n",
       "                                                                              \n",
       "                                                                             -\n",
       "                                                                              \n",
       "                                                                              \n",
       "                                                                              \n",
       "                                                                              \n",
       "                                                                              \n",
       "                                                                              \n",
       "\n",
       "⋅sin(θ₂) + sin(θ₅)⋅sin(θ₂ + θ₃) - 2⋅sin(θ₂ + θ₃) - cos(θ₄)⋅cos(θ₅)⋅cos(θ₂ + θ₃\n",
       "                                                                              \n",
       "⋅sin(θ₂) + sin(θ₅)⋅sin(θ₂ + θ₃) - 2⋅sin(θ₂ + θ₃) - cos(θ₄)⋅cos(θ₅)⋅cos(θ₂ + θ₃\n",
       "                                                                              \n",
       "4⋅sin(θ₅)⋅cos(θ₂ + θ₃) - 4⋅sin(θ₂ + θ₃)⋅cos(θ₄)⋅cos(θ₅) + 8⋅cos(θ₂) + 8⋅cos(θ₂\n",
       "                                                                              \n",
       "                                      sin(θ₁)                                 \n",
       "                                                                              \n",
       "                                     -cos(θ₁)                                 \n",
       "                                                                              \n",
       "                                         0                                    \n",
       "\n",
       "))⋅cos(θ₁)  4⋅(sin(θ₅)⋅sin(θ₂ + θ₃) - 2⋅sin(θ₂ + θ₃) - cos(θ₄)⋅cos(θ₅)⋅cos(θ₂ \n",
       "                                                                              \n",
       "))⋅sin(θ₁)  4⋅(sin(θ₅)⋅sin(θ₂ + θ₃) - 2⋅sin(θ₂ + θ₃) - cos(θ₄)⋅cos(θ₅)⋅cos(θ₂ \n",
       "                                                                              \n",
       " + θ₃)         -4⋅sin(θ₅)⋅cos(θ₂ + θ₃) - 4⋅sin(θ₂ + θ₃)⋅cos(θ₄)⋅cos(θ₅) + 8⋅co\n",
       "                                                                              \n",
       "                                                sin(θ₁)                       \n",
       "                                                                              \n",
       "                                                -cos(θ₁)                      \n",
       "                                                                              \n",
       "                                                   0                          \n",
       "\n",
       "+ θ₃))⋅cos(θ₁)  4⋅(sin(θ₁)⋅cos(θ₄) + sin(θ₄)⋅sin(θ₂ + θ₃)⋅cos(θ₁))⋅cos(θ₅)  -4\n",
       "                                                                              \n",
       "+ θ₃))⋅sin(θ₁)  4⋅(sin(θ₁)⋅sin(θ₄)⋅sin(θ₂ + θ₃) - cos(θ₁)⋅cos(θ₄))⋅cos(θ₅)  4⋅\n",
       "                                                                              \n",
       "s(θ₂ + θ₃)                   -4⋅sin(θ₄)⋅cos(θ₅)⋅cos(θ₂ + θ₃)                  \n",
       "                                                                              \n",
       "                                   cos(θ₁)⋅cos(θ₂ + θ₃)                       \n",
       "                                                                              \n",
       "                                   sin(θ₁)⋅cos(θ₂ + θ₃)                       \n",
       "                                                                              \n",
       "                                       sin(θ₂ + θ₃)                           \n",
       "\n",
       "⋅sin(θ₁)⋅sin(θ₄)⋅sin(θ₅) + 4⋅sin(θ₅)⋅sin(θ₂ + θ₃)⋅cos(θ₁)⋅cos(θ₄) - 4⋅cos(θ₁)⋅\n",
       "                                                                              \n",
       "sin(θ₁)⋅sin(θ₅)⋅sin(θ₂ + θ₃)⋅cos(θ₄) - 4⋅sin(θ₁)⋅cos(θ₅)⋅cos(θ₂ + θ₃) + 4⋅sin(\n",
       "                                                                              \n",
       "                    -4⋅sin(θ₅)⋅cos(θ₄)⋅cos(θ₂ + θ₃) - 4⋅sin(θ₂ + θ₃)⋅cos(θ₅)  \n",
       "                                                                              \n",
       "                         sin(θ₁)⋅cos(θ₄) + sin(θ₄)⋅sin(θ₂ + θ₃)⋅cos(θ₁)       \n",
       "                                                                              \n",
       "                         sin(θ₁)⋅sin(θ₄)⋅sin(θ₂ + θ₃) - cos(θ₁)⋅cos(θ₄)       \n",
       "                                                                              \n",
       "                                     -sin(θ₄)⋅cos(θ₂ + θ₃)                    \n",
       "\n",
       "cos(θ₅)⋅cos(θ₂ + θ₃)                                             0            \n",
       "                                                                              \n",
       "θ₄)⋅sin(θ₅)⋅cos(θ₁)                                              0            \n",
       "                                                                              \n",
       "                                                                 0            \n",
       "                                                                              \n",
       "                      (sin(θ₁)⋅sin(θ₄) - sin(θ₂ + θ₃)⋅cos(θ₁)⋅cos(θ₄))⋅cos(θ₅)\n",
       "                                                                              \n",
       "                      -(sin(θ₁)⋅sin(θ₂ + θ₃)⋅cos(θ₄) + sin(θ₄)⋅cos(θ₁))⋅cos(θ₅\n",
       "                                                                              \n",
       "                                        -sin(θ₅)⋅sin(θ₂ + θ₃) + cos(θ₄)⋅cos(θ₅\n",
       "\n",
       "                                ⎤\n",
       "                                ⎥\n",
       "                                ⎥\n",
       "                                ⎥\n",
       "                                ⎥\n",
       "                                ⎥\n",
       " - sin(θ₅)⋅cos(θ₁)⋅cos(θ₂ + θ₃) ⎥\n",
       "                                ⎥\n",
       ") - sin(θ₁)⋅sin(θ₅)⋅cos(θ₂ + θ₃)⎥\n",
       "                                ⎥\n",
       ")⋅cos(θ₂ + θ₃)                  ⎦"
      ]
     },
     "execution_count": 7,
     "metadata": {},
     "output_type": "execute_result"
    }
   ],
   "source": [
    "J = []\n",
    "for k in range(3):\n",
    "    J.append([])\n",
    "    for i in range(n):\n",
    "        J[k].append(simplify(jv[i][k]))\n",
    "for k in range(3):\n",
    "    J.append([])\n",
    "    for i in range(n):\n",
    "        J[k+3].append(simplify(jw[i][k]))\n",
    "\n",
    "Matrix(J)"
   ]
  },
  {
   "attachments": {},
   "cell_type": "markdown",
   "metadata": {},
   "source": [
    "# Obtendo as velocidades das juntas:"
   ]
  },
  {
   "cell_type": "code",
   "execution_count": 8,
   "metadata": {},
   "outputs": [
    {
     "data": {
      "image/png": "[encoded data removed]",
      "text/latex": [
       "$\\displaystyle \\left[\\begin{matrix}-2.0 & 5.6416 & 6.3332 & 1.4174 & 2.2566 & 0\\\\5.0 & 8.2566 & 9.2687 & -0.9685 & 3.3027 & 0\\\\0 & 4.4721 & -3.4334 & 0 & 0 & 0\\\\0 & 0.8257 & 0.8257 & -0.2421 & 0.8257 & 0\\\\0 & -0.5642 & -0.5642 & -0.3544 & -0.5642 & 0\\\\1.0 & 0 & 0 & -0.9032 & 0 & -1.0\\end{matrix}\\right]$"
      ],
      "text/plain": [
       "⎡-2.0  5.6416   6.3332   1.4174   2.2566    0  ⎤\n",
       "⎢                                              ⎥\n",
       "⎢5.0   8.2566   9.2687   -0.9685  3.3027    0  ⎥\n",
       "⎢                                              ⎥\n",
       "⎢ 0    4.4721   -3.4334     0        0      0  ⎥\n",
       "⎢                                              ⎥\n",
       "⎢ 0    0.8257   0.8257   -0.2421  0.8257    0  ⎥\n",
       "⎢                                              ⎥\n",
       "⎢ 0    -0.5642  -0.5642  -0.3544  -0.5642   0  ⎥\n",
       "⎢                                              ⎥\n",
       "⎣1.0      0        0     -0.9032     0     -1.0⎦"
      ]
     },
     "execution_count": 8,
     "metadata": {},
     "output_type": "execute_result"
    }
   ],
   "source": [
    "jac = []\n",
    "for i in range(len(J)):\n",
    "    jac.append([])\n",
    "    for j in range(len(J[0])):\n",
    "        jac[i].append(round((J[i][j].subs([(theta1, rad(55.6559)), (theta2, rad(8.8137)), (theta3, rad(-124.2289)), (theta4, rad(0.0)), (theta5, rad(-64.5848)), (theta6, rad(55.6559))]).evalf()), 4))\n",
    "\n",
    "Matrix(jac)"
   ]
  },
  {
   "cell_type": "code",
   "execution_count": 14,
   "metadata": {},
   "outputs": [
    {
     "data": {
      "image/png": "[encoded data removed]",
      "text/latex": [
       "$\\displaystyle \\left[\\begin{matrix}-0.1846 & 0.1262 & 0 & -0.5046 & -0.7384 & 0\\\\0.0725 & 0.029 & 0.1366 & -0.1161 & 0.2901 & 0\\\\0.0945 & 0.0378 & -0.1134 & -0.1512 & 0.3779 & 0\\\\0 & 0 & 0 & -1.3145 & -1.9237 & 0\\\\-0.167 & -0.0668 & -0.0232 & 1.093 & -1.2321 & 0\\\\-0.1846 & 0.1262 & 0 & 0.6826 & 0.9991 & -1.0\\end{matrix}\\right]$"
      ],
      "text/plain": [
       "⎡-0.1846  0.1262      0     -0.5046  -0.7384   0  ⎤\n",
       "⎢                                                 ⎥\n",
       "⎢0.0725    0.029   0.1366   -0.1161  0.2901    0  ⎥\n",
       "⎢                                                 ⎥\n",
       "⎢0.0945   0.0378   -0.1134  -0.1512  0.3779    0  ⎥\n",
       "⎢                                                 ⎥\n",
       "⎢   0        0        0     -1.3145  -1.9237   0  ⎥\n",
       "⎢                                                 ⎥\n",
       "⎢-0.167   -0.0668  -0.0232   1.093   -1.2321   0  ⎥\n",
       "⎢                                                 ⎥\n",
       "⎣-0.1846  0.1262      0     0.6826   0.9991   -1.0⎦"
      ]
     },
     "execution_count": 14,
     "metadata": {},
     "output_type": "execute_result"
    }
   ],
   "source": [
    "import numpy as np\n",
    "\n",
    "jacobs = np.array(jac, dtype=float)\n",
    "\n",
    "j_inv = Matrix(np.linalg.inv(jacobs))\n",
    "\n",
    "arredNUM(j_inv, 4)"
   ]
  },
  {
   "cell_type": "code",
   "execution_count": 17,
   "metadata": {},
   "outputs": [
    {
     "data": {
      "image/png": "[encoded data removed]",
      "text/latex": [
       "$\\displaystyle \\left[\\begin{matrix}0\\\\-0.027311\\\\0.022678\\\\0\\\\0.004633\\\\0\\end{matrix}\\right]$"
      ],
      "text/plain": [
       "⎡    0    ⎤\n",
       "⎢         ⎥\n",
       "⎢-0.027311⎥\n",
       "⎢         ⎥\n",
       "⎢0.022678 ⎥\n",
       "⎢         ⎥\n",
       "⎢    0    ⎥\n",
       "⎢         ⎥\n",
       "⎢0.004633 ⎥\n",
       "⎢         ⎥\n",
       "⎣    0    ⎦"
      ]
     },
     "execution_count": 17,
     "metadata": {},
     "output_type": "execute_result"
    }
   ],
   "source": [
    "xi = Matrix([\n",
    "    [0], \n",
    "    [0], \n",
    "    [-0.2], \n",
    "    [0], \n",
    "    [0], \n",
    "    [0]\n",
    "])\n",
    "\n",
    "arredNUM((j_inv@xi), 6)"
   ]
  }
 ],
 "metadata": {
  "kernelspec": {
   "display_name": "Python 3",
   "language": "python",
   "name": "python3"
  },
  "language_info": {
   "codemirror_mode": {
    "name": "ipython",
    "version": 3
   },
   "file_extension": ".py",
   "mimetype": "text/x-python",
   "name": "python",
   "nbconvert_exporter": "python",
   "pygments_lexer": "ipython3",
   "version": "3.11.0"
  },
  "orig_nbformat": 4
 },
 "nbformat": 4,
 "nbformat_minor": 2
}
