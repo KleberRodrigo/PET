{
 "cells": [
  {
   "attachments": {},
   "cell_type": "markdown",
   "metadata": {},
   "source": [
    "<h1 align='center'>\n",
    "    Jacobiano do Manipulador SCARA\n",
    "<h1>"
   ]
  },
  {
   "attachments": {},
   "cell_type": "markdown",
   "metadata": {},
   "source": [
    "<div align=\"center\">\n",
    "    <img src=\"SCARA.png\">\n",
    "</div>"
   ]
  },
  {
   "cell_type": "code",
   "execution_count": 1,
   "metadata": {},
   "outputs": [],
   "source": [
    "import numpy as np\n",
    "from FKM import *"
   ]
  },
  {
   "attachments": {},
   "cell_type": "markdown",
   "metadata": {},
   "source": [
    "### Definição da Tabela de Denavit Hartenberg:"
   ]
  },
  {
   "cell_type": "code",
   "execution_count": 2,
   "metadata": {},
   "outputs": [],
   "source": [
    "scara = Robot((\n",
    "    [theta1, l1, l2, 0],\n",
    "    [theta2, 0, l3, rad(180)],\n",
    "    [0, d3+l4, 0, 0],\n",
    "    [theta4, l5, 0, 0],\n",
    "))"
   ]
  },
  {
   "attachments": {},
   "cell_type": "markdown",
   "metadata": {},
   "source": [
    "### $$\\text{Obtenção de } o_i^0 \\text{ :}$$"
   ]
  },
  {
   "cell_type": "code",
   "execution_count": 3,
   "metadata": {},
   "outputs": [
    {
     "data": {
      "text/latex": [
       "$\\displaystyle \\left[ \\left[\\begin{matrix}0\\\\0\\\\0\\end{matrix}\\right], \\  \\left[\\begin{matrix}c_{1} l₂\\\\l₂ s_{1}\\\\l₁\\end{matrix}\\right], \\  \\left[\\begin{matrix}c_{1} l₂ + c_{12} l₃\\\\l₂ s_{1} + l₃ s_{12}\\\\l₁\\end{matrix}\\right], \\  \\left[\\begin{matrix}c_{1} l₂ + c_{12} l₃\\\\l₂ s_{1} + l₃ s_{12}\\\\- d₃ + l₁ - l₄\\end{matrix}\\right], \\  \\left[\\begin{matrix}c_{1} l₂ + c_{12} l₃\\\\l₂ s_{1} + l₃ s_{12}\\\\- d₃ + l₁ - l₄\\end{matrix}\\right]\\right]$"
      ],
      "text/plain": [
       "⎡⎡0⎤  ⎡c₁⋅l₂⎤  ⎡c₁⋅l₂ + c₁₂⋅l₃⎤  ⎡c₁⋅l₂ + c₁₂⋅l₃⎤  ⎡c₁⋅l₂ + c₁₂⋅l₃⎤⎤\n",
       "⎢⎢ ⎥  ⎢     ⎥  ⎢              ⎥  ⎢              ⎥  ⎢              ⎥⎥\n",
       "⎢⎢0⎥, ⎢l₂⋅s₁⎥, ⎢l₂⋅s₁ + l₃⋅s₁₂⎥, ⎢l₂⋅s₁ + l₃⋅s₁₂⎥, ⎢l₂⋅s₁ + l₃⋅s₁₂⎥⎥\n",
       "⎢⎢ ⎥  ⎢     ⎥  ⎢              ⎥  ⎢              ⎥  ⎢              ⎥⎥\n",
       "⎣⎣0⎦  ⎣ l₁  ⎦  ⎣      l₁      ⎦  ⎣-d₃ + l₁ - l₄ ⎦  ⎣-d₃ + l₁ - l₄ ⎦⎦"
      ]
     },
     "execution_count": 3,
     "metadata": {},
     "output_type": "execute_result"
    }
   ],
   "source": [
    "n = len(scara.T) #número de juntas\n",
    "\n",
    "o = [Matrix([[0], [0], [0]])]\n",
    "for i in range(1, n+1):\n",
    "    o.append(scara.HTM(0, i)[:3, 3])\n",
    "\n",
    "o"
   ]
  },
  {
   "attachments": {},
   "cell_type": "markdown",
   "metadata": {},
   "source": [
    "### $$\\text{Obtenção de } Z_{i-1}^0 = R_{i-1}^0k \\text{ :}$$"
   ]
  },
  {
   "cell_type": "code",
   "execution_count": 4,
   "metadata": {},
   "outputs": [
    {
     "data": {
      "image/png": "[encoded data removed]",
      "text/latex": [
       "$\\displaystyle \\left[ \\left[\\begin{matrix}0\\\\0\\\\1\\end{matrix}\\right], \\  \\left[\\begin{matrix}0\\\\0\\\\1\\end{matrix}\\right], \\  \\left[\\begin{matrix}0\\\\0\\\\-1\\end{matrix}\\right], \\  \\left[\\begin{matrix}0\\\\0\\\\-1\\end{matrix}\\right]\\right]$"
      ],
      "text/plain": [
       "⎡⎡0⎤  ⎡0⎤  ⎡0 ⎤  ⎡0 ⎤⎤\n",
       "⎢⎢ ⎥  ⎢ ⎥  ⎢  ⎥  ⎢  ⎥⎥\n",
       "⎢⎢0⎥, ⎢0⎥, ⎢0 ⎥, ⎢0 ⎥⎥\n",
       "⎢⎢ ⎥  ⎢ ⎥  ⎢  ⎥  ⎢  ⎥⎥\n",
       "⎣⎣1⎦  ⎣1⎦  ⎣-1⎦  ⎣-1⎦⎦"
      ]
     },
     "execution_count": 4,
     "metadata": {},
     "output_type": "execute_result"
    }
   ],
   "source": [
    "z = [Matrix([[0], [0], [1]])]\n",
    "for i in range(1, n):\n",
    "    z.append(scara.HTM(0, i)[:3, 2])\n",
    "\n",
    "z"
   ]
  },
  {
   "attachments": {},
   "cell_type": "markdown",
   "metadata": {},
   "source": [
    "### $$\\text{Obtenção do Jacobiano de velocidades lineares } J_{v_i} = z_{i-1}^0 \\times \\left( o_n^0 - o_{i-1}^0 \\right) \\text{ :}$$"
   ]
  },
  {
   "cell_type": "code",
   "execution_count": 5,
   "metadata": {},
   "outputs": [
    {
     "data": {
      "text/latex": [
       "$\\displaystyle \\left[ \\left[\\begin{matrix}- l₂ s_{1} - l₃ s_{12}\\\\c_{1} l₂ + c_{12} l₃\\\\0\\end{matrix}\\right], \\  \\left[\\begin{matrix}- l₃ s_{12}\\\\c_{12} l₃\\\\0\\end{matrix}\\right], \\  \\left[\\begin{matrix}0\\\\0\\\\-1\\end{matrix}\\right], \\  \\left[\\begin{matrix}0\\\\0\\\\0\\end{matrix}\\right]\\right]$"
      ],
      "text/plain": [
       "⎡⎡-l₂⋅s₁ - l₃⋅s₁₂⎤  ⎡-l₃⋅s₁₂⎤  ⎡0 ⎤  ⎡0⎤⎤\n",
       "⎢⎢               ⎥  ⎢       ⎥  ⎢  ⎥  ⎢ ⎥⎥\n",
       "⎢⎢c₁⋅l₂ + c₁₂⋅l₃ ⎥, ⎢c₁₂⋅l₃ ⎥, ⎢0 ⎥, ⎢0⎥⎥\n",
       "⎢⎢               ⎥  ⎢       ⎥  ⎢  ⎥  ⎢ ⎥⎥\n",
       "⎣⎣       0       ⎦  ⎣   0   ⎦  ⎣-1⎦  ⎣0⎦⎦"
      ]
     },
     "execution_count": 5,
     "metadata": {},
     "output_type": "execute_result"
    }
   ],
   "source": [
    "jv = []\n",
    "for i in range(1, n+1):\n",
    "    if(scara.rotational[i-1]):\n",
    "        jv.append(Matrix(np.cross(np.squeeze(z[i-1]), np.squeeze(o[-1] - o[i-1])).tolist()))\n",
    "    else:\n",
    "        jv.append(z[i-1])\n",
    "\n",
    "jv"
   ]
  },
  {
   "attachments": {},
   "cell_type": "markdown",
   "metadata": {},
   "source": [
    "### $$\\text{Obtenção do Jacobiano de velocidades angulares } J_{\\omega_i} = z_{i-1}^0 \\text{ :}$$"
   ]
  },
  {
   "cell_type": "code",
   "execution_count": 6,
   "metadata": {},
   "outputs": [
    {
     "data": {
      "image/png": "[encoded data removed]",
      "text/latex": [
       "$\\displaystyle \\left[ \\left[\\begin{matrix}0\\\\0\\\\1\\end{matrix}\\right], \\  \\left[\\begin{matrix}0\\\\0\\\\1\\end{matrix}\\right], \\  \\left[\\begin{matrix}0\\\\0\\\\0\\end{matrix}\\right], \\  \\left[\\begin{matrix}0\\\\0\\\\-1\\end{matrix}\\right]\\right]$"
      ],
      "text/plain": [
       "⎡⎡0⎤  ⎡0⎤  ⎡0⎤  ⎡0 ⎤⎤\n",
       "⎢⎢ ⎥  ⎢ ⎥  ⎢ ⎥  ⎢  ⎥⎥\n",
       "⎢⎢0⎥, ⎢0⎥, ⎢0⎥, ⎢0 ⎥⎥\n",
       "⎢⎢ ⎥  ⎢ ⎥  ⎢ ⎥  ⎢  ⎥⎥\n",
       "⎣⎣1⎦  ⎣1⎦  ⎣0⎦  ⎣-1⎦⎦"
      ]
     },
     "execution_count": 6,
     "metadata": {},
     "output_type": "execute_result"
    }
   ],
   "source": [
    "jw = []\n",
    "for i in range(1, n+1):\n",
    "    if(scara.rotational[i-1]):\n",
    "        jw.append(z[i-1])\n",
    "    else:\n",
    "        jw.append(Matrix([[0], [0], [0]]))\n",
    "\n",
    "jw"
   ]
  },
  {
   "attachments": {},
   "cell_type": "markdown",
   "metadata": {},
   "source": [
    "### $$\\text{Obtenção do Jacobiano de velocidades completo, tal que } \\xi = J(q)\\dot{q} \\text{ :}$$"
   ]
  },
  {
   "cell_type": "code",
   "execution_count": 7,
   "metadata": {},
   "outputs": [
    {
     "data": {
      "text/latex": [
       "$\\displaystyle \\left[\\begin{matrix}- l₂ s_{1} - l₃ s_{12} & - l₃ s_{12} & 0 & 0\\\\c_{1} l₂ + c_{12} l₃ & c_{12} l₃ & 0 & 0\\\\0 & 0 & -1 & 0\\\\0 & 0 & 0 & 0\\\\0 & 0 & 0 & 0\\\\1 & 1 & 0 & -1\\end{matrix}\\right]$"
      ],
      "text/plain": [
       "⎡-l₂⋅s₁ - l₃⋅s₁₂  -l₃⋅s₁₂  0   0 ⎤\n",
       "⎢                                ⎥\n",
       "⎢c₁⋅l₂ + c₁₂⋅l₃   c₁₂⋅l₃   0   0 ⎥\n",
       "⎢                                ⎥\n",
       "⎢       0            0     -1  0 ⎥\n",
       "⎢                                ⎥\n",
       "⎢       0            0     0   0 ⎥\n",
       "⎢                                ⎥\n",
       "⎢       0            0     0   0 ⎥\n",
       "⎢                                ⎥\n",
       "⎣       1            1     0   -1⎦"
      ]
     },
     "execution_count": 7,
     "metadata": {},
     "output_type": "execute_result"
    }
   ],
   "source": [
    "J = []\n",
    "for k in range(3):\n",
    "    J.append([])\n",
    "    for i in range(n):\n",
    "        J[k].append(jv[i][k])\n",
    "for k in range(3):\n",
    "    J.append([])\n",
    "    for i in range(n):\n",
    "        J[k+3].append(jw[i][k])\n",
    "\n",
    "Matrix(J)"
   ]
  }
 ],
 "metadata": {
  "kernelspec": {
   "display_name": "Python 3",
   "language": "python",
   "name": "python3"
  },
  "language_info": {
   "codemirror_mode": {
    "name": "ipython",
    "version": 3
   },
   "file_extension": ".py",
   "mimetype": "text/x-python",
   "name": "python",
   "nbconvert_exporter": "python",
   "pygments_lexer": "ipython3",
   "version": "3.11.1"
  },
  "orig_nbformat": 4
 },
 "nbformat": 4,
 "nbformat_minor": 2
}
