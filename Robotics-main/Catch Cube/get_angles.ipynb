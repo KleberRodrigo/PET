{
 "cells": [
  {
   "cell_type": "code",
   "execution_count": 1,
   "metadata": {},
   "outputs": [],
   "source": [
    "import sympy as sp\n",
    "import numpy as np"
   ]
  },
  {
   "attachments": {},
   "cell_type": "markdown",
   "metadata": {},
   "source": [
    "### Cinemática inversa:"
   ]
  },
  {
   "cell_type": "code",
   "execution_count": 2,
   "metadata": {},
   "outputs": [],
   "source": [
    "def getAngles(pose):\n",
    "    # Desacoplamento cinemático:\n",
    "    xc = (pose[0][3] - (4*pose[0][2]))\n",
    "    yc = (pose[1][3] - (4*pose[1][2]))\n",
    "    zc = (pose[2][3] - (4*pose[2][2]))\n",
    "\n",
    "    r = np.sqrt((xc**2) + (yc**2) - (3**2))\n",
    "\n",
    "    # Braço direito, cotovelo para cima:\n",
    "\n",
    "    thetas = (np.ones(6)*np.nan)\n",
    "\n",
    "    # Theta 1:\n",
    "    thetas[0] = (np.arctan2(yc, xc) + np.arctan2(3, r))\n",
    "\n",
    "    # Theta 3:\n",
    "    c3 = (((r**2)+((zc-13)**2)-128)/128)\n",
    "    thetas[2] = -np.arctan2(np.sqrt(1-(c3**2)), c3)\n",
    "\n",
    "    # Theta 2:\n",
    "    thetas[1] = (np.arctan2((zc-13), r) - np.arctan2((8*np.sin(thetas[2])), (8*(1+np.cos(thetas[2]))))) \n",
    "\n",
    "    # Theta 5:\n",
    "    s5 = (-(np.cos(thetas[0])*np.cos(thetas[1]+thetas[2])*pose[0][2])-(np.cos(thetas[1]+thetas[2])*np.sin(thetas[0])*pose[1][2])-(np.sin(thetas[1]+thetas[2])*pose[2][2]))\n",
    "    thetas[4] = np.arctan2(s5, np.sqrt(1-(s5**2)))\n",
    "\n",
    "    # Theta 6:\n",
    "    c6 = (((np.cos(thetas[0])*np.cos(thetas[1]+thetas[2])*pose[0][0]) + (np.cos(thetas[1]+thetas[2])*np.sin(thetas[0])*pose[1][0]) + (np.sin(thetas[1]+thetas[2])*pose[2][0]))/np.cos(thetas[4]))\n",
    "    thetas[5] = np.arctan2(np.sqrt(1-(c6**2)), c6)\n",
    "\n",
    "    # Theta 4:\n",
    "    s4 = (((np.sin(thetas[0])*pose[0][2]) - (np.cos(thetas[0])*pose[1][2]))/np.cos(thetas[4]))\n",
    "    thetas[3] = np.arctan2(s4, np.sqrt(1-(s4**2)))\n",
    "\n",
    "    return thetas\n"
   ]
  },
  {
   "attachments": {},
   "cell_type": "markdown",
   "metadata": {},
   "source": [
    "### Poses desejadas:"
   ]
  },
  {
   "attachments": {},
   "cell_type": "markdown",
   "metadata": {},
   "source": [
    "##### Pose auxiliar:"
   ]
  },
  {
   "cell_type": "code",
   "execution_count": 3,
   "metadata": {},
   "outputs": [],
   "source": [
    "p1 = [\n",
    "    [-1, 0, 0, 5],\n",
    "    [0, 1, 0, 2],\n",
    "    [0, 0, -1, 4],\n",
    "    [0, 0, 0, 1]\n",
    "]"
   ]
  },
  {
   "cell_type": "code",
   "execution_count": 4,
   "metadata": {},
   "outputs": [
    {
     "name": "stdout",
     "output_type": "stream",
     "text": [
      "\t Theta 1 \t = \t 55.6559\n",
      "\t Theta 2 \t = \t 17.0223\n",
      "\t Theta 3 \t = \t -130.4239\n",
      "\t Theta 4 \t = \t 0.0\n",
      "\t Theta 5 \t = \t -66.5984\n",
      "\t Theta 6 \t = \t 55.6559\n"
     ]
    }
   ],
   "source": [
    "angles = getAngles(p1)\n",
    "for i in range(len(angles)):\n",
    "    print(f'\\t Theta {i+1} \\t = \\t {round(np.degrees(angles[i]), 4)}')"
   ]
  },
  {
   "attachments": {},
   "cell_type": "markdown",
   "metadata": {},
   "source": [
    "##### Pose intermediária:"
   ]
  },
  {
   "cell_type": "code",
   "execution_count": 5,
   "metadata": {},
   "outputs": [],
   "source": [
    "p1 = [\n",
    "    [-1, 0, 0, 5],\n",
    "    [0, 1, 0, 2],\n",
    "    [0, 0, -1, 3],\n",
    "    [0, 0, 0, 1]\n",
    "]"
   ]
  },
  {
   "cell_type": "code",
   "execution_count": 6,
   "metadata": {},
   "outputs": [
    {
     "name": "stdout",
     "output_type": "stream",
     "text": [
      "\t Theta 1 \t = \t 55.6559\n",
      "\t Theta 2 \t = \t 8.8137\n",
      "\t Theta 3 \t = \t -124.2289\n",
      "\t Theta 4 \t = \t 0.0\n",
      "\t Theta 5 \t = \t -64.5848\n",
      "\t Theta 6 \t = \t 55.6559\n"
     ]
    }
   ],
   "source": [
    "angles = getAngles(p1)\n",
    "for i in range(len(angles)):\n",
    "    print(f'\\t Theta {i+1} \\t = \\t {round(np.degrees(angles[i]), 4)}')"
   ]
  },
  {
   "attachments": {},
   "cell_type": "markdown",
   "metadata": {},
   "source": [
    "##### Pose de agarre:"
   ]
  },
  {
   "cell_type": "code",
   "execution_count": 7,
   "metadata": {},
   "outputs": [],
   "source": [
    "p1 = [\n",
    "    [-1, 0, 0, 5],\n",
    "    [0, 1, 0, 2],\n",
    "    [0, 0, -1, 2],\n",
    "    [0, 0, 0, 1]\n",
    "]"
   ]
  },
  {
   "cell_type": "code",
   "execution_count": 8,
   "metadata": {},
   "outputs": [
    {
     "name": "stdout",
     "output_type": "stream",
     "text": [
      "\t Theta 1 \t = \t 55.6559\n",
      "\t Theta 2 \t = \t 1.2974\n",
      "\t Theta 3 \t = \t -117.4476\n",
      "\t Theta 4 \t = \t 0.0\n",
      "\t Theta 5 \t = \t -63.8497\n",
      "\t Theta 6 \t = \t 55.6559\n"
     ]
    }
   ],
   "source": [
    "angles = getAngles(p1)\n",
    "for i in range(len(angles)):\n",
    "    print(f'\\t Theta {i+1} \\t = \\t {round(np.degrees(angles[i]), 4)}')"
   ]
  }
 ],
 "metadata": {
  "kernelspec": {
   "display_name": "Python 3",
   "language": "python",
   "name": "python3"
  },
  "language_info": {
   "codemirror_mode": {
    "name": "ipython",
    "version": 3
   },
   "file_extension": ".py",
   "mimetype": "text/x-python",
   "name": "python",
   "nbconvert_exporter": "python",
   "pygments_lexer": "ipython3",
   "version": "3.11.0"
  },
  "orig_nbformat": 4
 },
 "nbformat": 4,
 "nbformat_minor": 2
}
