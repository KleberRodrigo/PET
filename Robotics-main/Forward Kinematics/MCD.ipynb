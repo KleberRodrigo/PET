{
 "cells": [
  {
   "attachments": {},
   "cell_type": "markdown",
   "metadata": {},
   "source": [
    "# Modelo Cinemático Direto"
   ]
  },
  {
   "cell_type": "code",
   "execution_count": 7,
   "metadata": {},
   "outputs": [],
   "source": [
    "from FKM import *"
   ]
  },
  {
   "attachments": {},
   "cell_type": "markdown",
   "metadata": {},
   "source": [
    "### Definição da Tabela de Denavit Hartenberg:"
   ]
  },
  {
   "cell_type": "code",
   "execution_count": 8,
   "metadata": {},
   "outputs": [],
   "source": [
    "RRPRRRG = Robot((\n",
    "    [theta1, 0, 0, rad(-90)],\n",
    "    [theta2+rad(90), 0, 0, rad(90)],\n",
    "    [0, d3+l2+l4, 0, 0],\n",
    "    [theta4+rad(90), 0, 0, rad(-90)],\n",
    "    [theta5, 0, 0, rad(90)],\n",
    "    [theta6+rad(180), l5+l6, 0, 0]\n",
    "))"
   ]
  },
  {
   "attachments": {},
   "cell_type": "markdown",
   "metadata": {},
   "source": [
    "### Configurações desejadas para validação:"
   ]
  },
  {
   "cell_type": "code",
   "execution_count": 9,
   "metadata": {},
   "outputs": [],
   "source": [
    "PEDIDA = [rad(90), 0, .45, rad(90), 0, rad(90)]\n",
    "LINKS = [0, .164, 0, .05, .143, .12]\n",
    "HOME = [0, 0, 0, 0, 0, 0]"
   ]
  },
  {
   "attachments": {},
   "cell_type": "markdown",
   "metadata": {},
   "source": [
    "### Obtenção da Matriz de Transformação Homogênea, do frame 6 em relação ao frame 0:"
   ]
  },
  {
   "cell_type": "code",
   "execution_count": 10,
   "metadata": {},
   "outputs": [
    {
     "data": {
      "text/latex": [
       "$\\displaystyle \\left[\\begin{matrix}c_{6} \\left(c_{1} c_{2} s_{5} + c_{5} \\left(- c_{1} s_{2} s_{4} + c_{4} s_{1}\\right)\\right) - s_{6} \\left(c_{1} c_{4} s_{2} + s_{1} s_{4}\\right) & - c_{6} \\left(c_{1} c_{4} s_{2} + s_{1} s_{4}\\right) - s_{6} \\left(c_{1} c_{2} s_{5} + c_{5} \\left(- c_{1} s_{2} s_{4} + c_{4} s_{1}\\right)\\right) & c_{1} c_{2} c_{5} - s_{5} \\left(- c_{1} s_{2} s_{4} + c_{4} s_{1}\\right) & c_{1} c_{2} \\left(d₃ + l₂ + l₄\\right) - \\left(l₅ + l₆\\right) \\left(- c_{1} c_{2} c_{5} + s_{5} \\left(- c_{1} s_{2} s_{4} + c_{4} s_{1}\\right)\\right)\\\\- c_{6} \\left(- c_{2} s_{1} s_{5} + c_{5} \\left(c_{1} c_{4} + s_{1} s_{2} s_{4}\\right)\\right) - s_{6} \\left(- c_{1} s_{4} + c_{4} s_{1} s_{2}\\right) & - c_{6} \\left(- c_{1} s_{4} + c_{4} s_{1} s_{2}\\right) + s_{6} \\left(- c_{2} s_{1} s_{5} + c_{5} \\left(c_{1} c_{4} + s_{1} s_{2} s_{4}\\right)\\right) & c_{2} c_{5} s_{1} + s_{5} \\left(c_{1} c_{4} + s_{1} s_{2} s_{4}\\right) & c_{2} s_{1} \\left(d₃ + l₂ + l₄\\right) + \\left(l₅ + l₆\\right) \\left(c_{2} c_{5} s_{1} + s_{5} \\left(c_{1} c_{4} + s_{1} s_{2} s_{4}\\right)\\right)\\\\- c_{2} c_{4} s_{6} - c_{6} \\left(c_{2} c_{5} s_{4} + s_{2} s_{5}\\right) & - c_{2} c_{4} c_{6} + s_{6} \\left(c_{2} c_{5} s_{4} + s_{2} s_{5}\\right) & c_{2} s_{4} s_{5} - c_{5} s_{2} & - s_{2} \\left(d₃ + l₂ + l₄\\right) - \\left(l₅ + l₆\\right) \\left(- c_{2} s_{4} s_{5} + c_{5} s_{2}\\right)\\\\0 & 0 & 0 & 1\\end{matrix}\\right]$"
      ],
      "text/plain": [
       "⎡ c₆⋅(c₁⋅c₂⋅s₅ + c₅⋅(-c₁⋅s₂⋅s₄ + c₄⋅s₁)) - s₆⋅(c₁⋅c₄⋅s₂ + s₁⋅s₄)   -c₆⋅(c₁⋅c₄⋅\n",
       "⎢                                                                             \n",
       "⎢-c₆⋅(-c₂⋅s₁⋅s₅ + c₅⋅(c₁⋅c₄ + s₁⋅s₂⋅s₄)) - s₆⋅(-c₁⋅s₄ + c₄⋅s₁⋅s₂)  -c₆⋅(-c₁⋅s₄\n",
       "⎢                                                                             \n",
       "⎢               -c₂⋅c₄⋅s₆ - c₆⋅(c₂⋅c₅⋅s₄ + s₂⋅s₅)                             \n",
       "⎢                                                                             \n",
       "⎣                               0                                             \n",
       "\n",
       "s₂ + s₁⋅s₄) - s₆⋅(c₁⋅c₂⋅s₅ + c₅⋅(-c₁⋅s₂⋅s₄ + c₄⋅s₁))   c₁⋅c₂⋅c₅ - s₅⋅(-c₁⋅s₂⋅s\n",
       "                                                                              \n",
       " + c₄⋅s₁⋅s₂) + s₆⋅(-c₂⋅s₁⋅s₅ + c₅⋅(c₁⋅c₄ + s₁⋅s₂⋅s₄))  c₂⋅c₅⋅s₁ + s₅⋅(c₁⋅c₄ + \n",
       "                                                                              \n",
       "    -c₂⋅c₄⋅c₆ + s₆⋅(c₂⋅c₅⋅s₄ + s₂⋅s₅)                          c₂⋅s₄⋅s₅ - c₅⋅s\n",
       "                                                                              \n",
       "                    0                                                  0      \n",
       "\n",
       "₄ + c₄⋅s₁)  c₁⋅c₂⋅(d₃ + l₂ + l₄) - (l₅ + l₆)⋅(-c₁⋅c₂⋅c₅ + s₅⋅(-c₁⋅s₂⋅s₄ + c₄⋅s\n",
       "                                                                              \n",
       "s₁⋅s₂⋅s₄)    c₂⋅s₁⋅(d₃ + l₂ + l₄) + (l₅ + l₆)⋅(c₂⋅c₅⋅s₁ + s₅⋅(c₁⋅c₄ + s₁⋅s₂⋅s₄\n",
       "                                                                              \n",
       "₂                    -s₂⋅(d₃ + l₂ + l₄) - (l₅ + l₆)⋅(-c₂⋅s₄⋅s₅ + c₅⋅s₂)       \n",
       "                                                                              \n",
       "                                              1                               \n",
       "\n",
       "₁))⎤\n",
       "   ⎥\n",
       ")) ⎥\n",
       "   ⎥\n",
       "   ⎥\n",
       "   ⎥\n",
       "   ⎦"
      ]
     },
     "execution_count": 10,
     "metadata": {},
     "output_type": "execute_result"
    }
   ],
   "source": [
    "RRPRRRG.HTM(0, 6)"
   ]
  },
  {
   "attachments": {},
   "cell_type": "markdown",
   "metadata": {},
   "source": [
    "### Pose final do robô em HOME:"
   ]
  },
  {
   "cell_type": "code",
   "execution_count": 11,
   "metadata": {},
   "outputs": [
    {
     "data": {
      "text/latex": [
       "$\\displaystyle \\left[\\begin{matrix}0 & 0 & 1 & l₂ + l₄ + l₅ + l₆\\\\-1 & 0 & 0 & 0\\\\0 & -1 & 0 & 0\\\\0 & 0 & 0 & 1\\end{matrix}\\right]$"
      ],
      "text/plain": [
       "⎡0   0   1  l₂ + l₄ + l₅ + l₆⎤\n",
       "⎢                            ⎥\n",
       "⎢-1  0   0          0        ⎥\n",
       "⎢                            ⎥\n",
       "⎢0   -1  0          0        ⎥\n",
       "⎢                            ⎥\n",
       "⎣0   0   0          1        ⎦"
      ]
     },
     "execution_count": 11,
     "metadata": {},
     "output_type": "execute_result"
    }
   ],
   "source": [
    "RRPRRRG.POSE(HOME)"
   ]
  },
  {
   "attachments": {},
   "cell_type": "markdown",
   "metadata": {},
   "source": [
    "### Pose final do robô na configuração desejada de validação:"
   ]
  },
  {
   "cell_type": "code",
   "execution_count": 12,
   "metadata": {},
   "outputs": [
    {
     "data": {
      "image/png": "[encoded data removed]",
      "text/latex": [
       "$\\displaystyle \\left[\\begin{matrix}-1 & 0 & 0 & 0\\\\0 & 0 & 1 & 0.927\\\\0 & 1 & 0 & 0\\\\0 & 0 & 0 & 1\\end{matrix}\\right]$"
      ],
      "text/plain": [
       "⎡-1  0  0    0  ⎤\n",
       "⎢               ⎥\n",
       "⎢0   0  1  0.927⎥\n",
       "⎢               ⎥\n",
       "⎢0   1  0    0  ⎥\n",
       "⎢               ⎥\n",
       "⎣0   0  0    1  ⎦"
      ]
     },
     "execution_count": 12,
     "metadata": {},
     "output_type": "execute_result"
    }
   ],
   "source": [
    "RRPRRRG.POSE(PEDIDA, LINKS)"
   ]
  }
 ],
 "metadata": {
  "kernelspec": {
   "display_name": "Python 3",
   "language": "python",
   "name": "python3"
  },
  "language_info": {
   "codemirror_mode": {
    "name": "ipython",
    "version": 3
   },
   "file_extension": ".py",
   "mimetype": "text/x-python",
   "name": "python",
   "nbconvert_exporter": "python",
   "pygments_lexer": "ipython3",
   "version": "3.11.1"
  },
  "orig_nbformat": 4
 },
 "nbformat": 4,
 "nbformat_minor": 2
}
