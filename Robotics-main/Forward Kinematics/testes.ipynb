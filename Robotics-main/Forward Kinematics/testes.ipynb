{
 "cells": [
  {
   "attachments": {},
   "cell_type": "markdown",
   "metadata": {},
   "source": [
    "# Modelo Cinemático Direto"
   ]
  },
  {
   "cell_type": "code",
   "execution_count": 4,
   "metadata": {},
   "outputs": [],
   "source": [
    "from FKM import *"
   ]
  },
  {
   "attachments": {},
   "cell_type": "markdown",
   "metadata": {},
   "source": [
    "### Definição da Tabela de Denavit Hartenberg:"
   ]
  },
  {
   "cell_type": "code",
   "execution_count": 5,
   "metadata": {},
   "outputs": [],
   "source": [
    "teste = Robot((\n",
    "    [theta1, l1, 0, rad(90)],\n",
    "    [theta2, 0, l2, 0]\n",
    "))"
   ]
  },
  {
   "cell_type": "code",
   "execution_count": 6,
   "metadata": {},
   "outputs": [
    {
     "data": {
      "text/latex": [
       "$\\displaystyle \\left[\\begin{matrix}c_{1} & 0 & s_{1} & 0\\\\s_{1} & 0 & - c_{1} & 0\\\\0 & 1 & 0 & l₁\\\\0 & 0 & 0 & 1\\end{matrix}\\right]$"
      ],
      "text/plain": [
       "⎡c₁  0  s₁   0 ⎤\n",
       "⎢              ⎥\n",
       "⎢s₁  0  -c₁  0 ⎥\n",
       "⎢              ⎥\n",
       "⎢0   1   0   l₁⎥\n",
       "⎢              ⎥\n",
       "⎣0   0   0   1 ⎦"
      ]
     },
     "execution_count": 6,
     "metadata": {},
     "output_type": "execute_result"
    }
   ],
   "source": [
    "teste.HTM(0, 1)"
   ]
  },
  {
   "cell_type": "code",
   "execution_count": 7,
   "metadata": {},
   "outputs": [
    {
     "data": {
      "text/latex": [
       "$\\displaystyle \\left[\\begin{matrix}c_{2} & - s_{2} & 0 & c_{2} l₂\\\\s_{2} & c_{2} & 0 & l₂ s_{2}\\\\0 & 0 & 1 & 0\\\\0 & 0 & 0 & 1\\end{matrix}\\right]$"
      ],
      "text/plain": [
       "⎡c₂  -s₂  0  c₂⋅l₂⎤\n",
       "⎢                 ⎥\n",
       "⎢s₂  c₂   0  l₂⋅s₂⎥\n",
       "⎢                 ⎥\n",
       "⎢0    0   1    0  ⎥\n",
       "⎢                 ⎥\n",
       "⎣0    0   0    1  ⎦"
      ]
     },
     "execution_count": 7,
     "metadata": {},
     "output_type": "execute_result"
    }
   ],
   "source": [
    "teste.HTM(1, 2)"
   ]
  },
  {
   "cell_type": "code",
   "execution_count": 8,
   "metadata": {},
   "outputs": [
    {
     "data": {
      "text/latex": [
       "$\\displaystyle \\left[\\begin{matrix}c_{1} c_{2} & - c_{1} s_{2} & s_{1} & c_{1} c_{2} l₂\\\\c_{2} s_{1} & - s_{1} s_{2} & - c_{1} & c_{2} l₂ s_{1}\\\\s_{2} & c_{2} & 0 & l₁ + l₂ s_{2}\\\\0 & 0 & 0 & 1\\end{matrix}\\right]$"
      ],
      "text/plain": [
       "⎡c₁⋅c₂  -c₁⋅s₂  s₁    c₁⋅c₂⋅l₂ ⎤\n",
       "⎢                              ⎥\n",
       "⎢c₂⋅s₁  -s₁⋅s₂  -c₁   c₂⋅l₂⋅s₁ ⎥\n",
       "⎢                              ⎥\n",
       "⎢ s₂      c₂     0   l₁ + l₂⋅s₂⎥\n",
       "⎢                              ⎥\n",
       "⎣  0      0      0       1     ⎦"
      ]
     },
     "execution_count": 8,
     "metadata": {},
     "output_type": "execute_result"
    }
   ],
   "source": [
    "teste.HTM(0, 2)"
   ]
  }
 ],
 "metadata": {
  "kernelspec": {
   "display_name": "Python 3",
   "language": "python",
   "name": "python3"
  },
  "language_info": {
   "codemirror_mode": {
    "name": "ipython",
    "version": 3
   },
   "file_extension": ".py",
   "mimetype": "text/x-python",
   "name": "python",
   "nbconvert_exporter": "python",
   "pygments_lexer": "ipython3",
   "version": "3.11.1"
  },
  "orig_nbformat": 4
 },
 "nbformat": 4,
 "nbformat_minor": 2
}
