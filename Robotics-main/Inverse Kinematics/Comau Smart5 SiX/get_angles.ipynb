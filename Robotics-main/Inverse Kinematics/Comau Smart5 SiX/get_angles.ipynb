{
 "cells": [
  {
   "cell_type": "code",
   "execution_count": 716,
   "metadata": {},
   "outputs": [],
   "source": [
    "import sympy as sp\n",
    "import numpy as np"
   ]
  },
  {
   "attachments": {},
   "cell_type": "markdown",
   "metadata": {},
   "source": [
    "### Cinemática inversa:"
   ]
  },
  {
   "cell_type": "code",
   "execution_count": 717,
   "metadata": {},
   "outputs": [],
   "source": [
    "def getAngles(pose):\n",
    "    # Desacoplamento cinemático:\n",
    "    xc = (pose[0][3] - (95*pose[0][2]))\n",
    "    yc = (pose[1][3] - (95*pose[1][2]))\n",
    "    zc = (pose[2][3] - (95*pose[2][2]))\n",
    "\n",
    "    # Auxiliares:\n",
    "    r = np.sqrt((xc**2) + (yc**2))\n",
    "    s = (zc-450)\n",
    "    h = np.sqrt(((r-150)**2)+(s**2))\n",
    "    l = np.sqrt((130**2) + (647.07**2))  \n",
    "\n",
    "    thetas = (np.ones(6)*np.nan)\n",
    "\n",
    "    # Theta 1:\n",
    "    thetas[0] = np.arctan2(yc, xc)   #+/- theta1\n",
    "\n",
    "    # Theta 3:\n",
    "    alpha = np.arctan2(647.07, 130)\n",
    "    sb = (((590**2) + (l**2) - (h**2))/(2*590*l))\n",
    "    beta = np.arctan2(sb, np.sqrt(1-(sb**2)))    #+/- beta | +/- cb\n",
    "    thetas[2] = (beta - alpha)  \n",
    "\n",
    "    # Theta 2:\n",
    "    sg = -((l*np.cos(beta))/h)\n",
    "    gamma = np.arctan2(sg, np.sqrt(1-(sg**2)))   #+/- gamma | +/- cg | +/- sg\n",
    "    psi = np.arctan2((r-150), s)\n",
    "    thetas[1] = (gamma + psi)\n",
    "\n",
    "    # Theta 5:\n",
    "    c5 = -(-(np.cos(thetas[0])*np.sin(thetas[1]-thetas[2])*pose[0][2]) + (np.sin(thetas[0])*np.sin(thetas[1]-thetas[2])*pose[1][2]) - (np.cos(thetas[1]-thetas[2])*pose[2][2]))\n",
    "    thetas[4] = np.arctan2(np.sqrt(1-(c5**2)+1e-20), c5)\n",
    "\n",
    "    # Theta 6:\n",
    "    s6 = ((-(np.cos(thetas[0])*np.sin(thetas[1]-thetas[2])*pose[0][1]) + (np.sin(thetas[0])*np.sin(thetas[1]-thetas[2])*pose[1][1]) - (np.cos(thetas[1]-thetas[2])*pose[2][1]))/np.sin(thetas[4]))\n",
    "    thetas[5] = np.arctan2(s6, np.sqrt(1-(s6**2)))\n",
    "\n",
    "    # Theta 4:\n",
    "    s4 = (((np.sin(thetas[0])*pose[0][2]) + (np.cos(thetas[0])*pose[1][2]))/np.sin(thetas[4]))\n",
    "    thetas[3] = -np.arctan2(s4, np.sqrt(1-(s4**2)))\n",
    "\n",
    "    return thetas\n"
   ]
  },
  {
   "attachments": {},
   "cell_type": "markdown",
   "metadata": {},
   "source": [
    "### Poses desejadas:"
   ]
  },
  {
   "cell_type": "code",
   "execution_count": 718,
   "metadata": {},
   "outputs": [],
   "source": [
    "HOME = [\n",
    "    [0, 0, 1, 892.07],\n",
    "    [0, 1, 0, 0],\n",
    "    [-1, 0, 0, 1170],\n",
    "    [0, 0, 0, 1]\n",
    "]\n",
    "\n",
    "CALLSYS = [\n",
    "    [1, 0, 0, 20],\n",
    "    [0, 1, 0, 0],\n",
    "    [0, 0, 1, 1782.07],\n",
    "    [0, 0, 0, 1]\n",
    "]\n",
    "\n",
    "T1 = [\n",
    "    [0, 0, -1, -95.0],\n",
    "    [1, 0, 0, -610],\n",
    "    [0, -1, 0, 1097.07],\n",
    "    [0, 0, 0, 1]\n",
    "]\n",
    "\n",
    "T2 = [\n",
    "    [0, 0, 1, 95.0],\n",
    "    [-1, 0, 0, -570],\n",
    "    [0, -1, 0, 1097.07],\n",
    "    [0, 0, 0, 1]\n",
    "]"
   ]
  },
  {
   "cell_type": "code",
   "execution_count": 719,
   "metadata": {},
   "outputs": [
    {
     "name": "stdout",
     "output_type": "stream",
     "text": [
      "\t Theta 1 \t = \t 0.000\n",
      "\t Theta 2 \t = \t 0.000\n",
      "\t Theta 3 \t = \t -90.000\n",
      "\t Theta 4 \t = \t -0.000\n",
      "\t Theta 5 \t = \t 0.000\n",
      "\t Theta 6 \t = \t 0.000\n"
     ]
    }
   ],
   "source": [
    "angles = getAngles(HOME)\n",
    "for i in range(len(angles)):\n",
    "    print(f'\\t Theta {i+1} \\t = \\t {np.degrees(angles[i]):,.3f}')"
   ]
  }
 ],
 "metadata": {
  "kernelspec": {
   "display_name": "Python 3",
   "language": "python",
   "name": "python3"
  },
  "language_info": {
   "codemirror_mode": {
    "name": "ipython",
    "version": 3
   },
   "file_extension": ".py",
   "mimetype": "text/x-python",
   "name": "python",
   "nbconvert_exporter": "python",
   "pygments_lexer": "ipython3",
   "version": "3.11.0"
  },
  "orig_nbformat": 4
 },
 "nbformat": 4,
 "nbformat_minor": 2
}
