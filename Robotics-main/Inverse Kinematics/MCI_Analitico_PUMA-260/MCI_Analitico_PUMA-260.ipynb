{
 "cells": [
  {
   "attachments": {},
   "cell_type": "markdown",
   "metadata": {},
   "source": [
    "<h1 align='center'>\n",
    "    Modelo Cinemático Inverso do Manipulador PUMA 260\n",
    "    <br>  \n",
    "    (Método Analítico)\n",
    "<h1>"
   ]
  },
  {
   "attachments": {},
   "cell_type": "markdown",
   "metadata": {},
   "source": [
    "<div align=\"center\">\n",
    "    <img src=\"puma260.png\">\n",
    "</div>"
   ]
  },
  {
   "cell_type": "code",
   "execution_count": 1,
   "metadata": {},
   "outputs": [],
   "source": [
    "from FKM import *"
   ]
  },
  {
   "attachments": {},
   "cell_type": "markdown",
   "metadata": {},
   "source": [
    "### Definição da Tabela de Denavit Hartenberg:"
   ]
  },
  {
   "cell_type": "code",
   "execution_count": 2,
   "metadata": {},
   "outputs": [],
   "source": [
    "puma = Robot((\n",
    "    [theta1, 13, 0, rad(-90)],\n",
    "    [theta2, d1, 8, 0],\n",
    "    [theta3+rad(90), 0, 0, rad(90)],\n",
    "    [theta4, 8, 0, rad(-90)],\n",
    "    [theta5-rad(90), 0, 0, rad(90)],\n",
    "    [theta6, d2, 0, 0]\n",
    "))"
   ]
  },
  {
   "attachments": {},
   "cell_type": "markdown",
   "metadata": {},
   "source": [
    "### Modelo Cinemático Direto:"
   ]
  },
  {
   "cell_type": "code",
   "execution_count": 3,
   "metadata": {},
   "outputs": [
    {
     "data": {
      "text/latex": [
       "$\\displaystyle \\left[\\begin{matrix}- c_{6} \\left(- c_{1} c_{23} c_{5} + s_{5} \\left(c_{1} c_{4} s_{23} + s_{1} s_{4}\\right)\\right) - s_{6} \\left(- c_{1} s_{23} s_{4} + c_{4} s_{1}\\right) & - c_{6} \\left(- c_{1} s_{23} s_{4} + c_{4} s_{1}\\right) + s_{6} \\left(- c_{1} c_{23} c_{5} + s_{5} \\left(c_{1} c_{4} s_{23} + s_{1} s_{4}\\right)\\right) & c_{1} c_{23} s_{5} + c_{5} \\left(c_{1} c_{4} s_{23} + s_{1} s_{4}\\right) & 8 c_{1} c_{2} + 8 c_{1} c_{23} - d₁ s_{1} + d₂ \\left(c_{1} c_{23} s_{5} + c_{5} \\left(c_{1} c_{4} s_{23} + s_{1} s_{4}\\right)\\right)\\\\- c_{6} \\left(- c_{23} c_{5} s_{1} + s_{5} \\left(- c_{1} s_{4} + c_{4} s_{1} s_{23}\\right)\\right) + s_{6} \\left(c_{1} c_{4} + s_{1} s_{23} s_{4}\\right) & c_{6} \\left(c_{1} c_{4} + s_{1} s_{23} s_{4}\\right) + s_{6} \\left(- c_{23} c_{5} s_{1} + s_{5} \\left(- c_{1} s_{4} + c_{4} s_{1} s_{23}\\right)\\right) & c_{23} s_{1} s_{5} + c_{5} \\left(- c_{1} s_{4} + c_{4} s_{1} s_{23}\\right) & c_{1} d₁ + 8 c_{2} s_{1} + 8 c_{23} s_{1} + d₂ \\left(c_{23} s_{1} s_{5} + c_{5} \\left(- c_{1} s_{4} + c_{4} s_{1} s_{23}\\right)\\right)\\\\c_{23} s_{4} s_{6} - c_{6} \\left(c_{23} c_{4} s_{5} + c_{5} s_{23}\\right) & c_{23} c_{6} s_{4} + s_{6} \\left(c_{23} c_{4} s_{5} + c_{5} s_{23}\\right) & c_{23} c_{4} c_{5} - s_{23} s_{5} & - d₂ \\left(- c_{23} c_{4} c_{5} + s_{23} s_{5}\\right) - 8 s_{2} - 8 s_{23} + 13\\\\0 & 0 & 0 & 1\\end{matrix}\\right]$"
      ],
      "text/plain": [
       "⎡-c₆⋅(-c₁⋅c₂₃⋅c₅ + s₅⋅(c₁⋅c₄⋅s₂₃ + s₁⋅s₄)) - s₆⋅(-c₁⋅s₂₃⋅s₄ + c₄⋅s₁)  -c₆⋅(-c₁\n",
       "⎢                                                                             \n",
       "⎢-c₆⋅(-c₂₃⋅c₅⋅s₁ + s₅⋅(-c₁⋅s₄ + c₄⋅s₁⋅s₂₃)) + s₆⋅(c₁⋅c₄ + s₁⋅s₂₃⋅s₄)  c₆⋅(c₁⋅c\n",
       "⎢                                                                             \n",
       "⎢                c₂₃⋅s₄⋅s₆ - c₆⋅(c₂₃⋅c₄⋅s₅ + c₅⋅s₂₃)                          \n",
       "⎢                                                                             \n",
       "⎣                                 0                                           \n",
       "\n",
       "⋅s₂₃⋅s₄ + c₄⋅s₁) + s₆⋅(-c₁⋅c₂₃⋅c₅ + s₅⋅(c₁⋅c₄⋅s₂₃ + s₁⋅s₄))  c₁⋅c₂₃⋅s₅ + c₅⋅(c\n",
       "                                                                              \n",
       "₄ + s₁⋅s₂₃⋅s₄) + s₆⋅(-c₂₃⋅c₅⋅s₁ + s₅⋅(-c₁⋅s₄ + c₄⋅s₁⋅s₂₃))   c₂₃⋅s₁⋅s₅ + c₅⋅(-\n",
       "                                                                              \n",
       "        c₂₃⋅c₆⋅s₄ + s₆⋅(c₂₃⋅c₄⋅s₅ + c₅⋅s₂₃)                          c₂₃⋅c₄⋅c₅\n",
       "                                                                              \n",
       "                         0                                                    \n",
       "\n",
       "₁⋅c₄⋅s₂₃ + s₁⋅s₄)   8⋅c₁⋅c₂ + 8⋅c₁⋅c₂₃ - d₁⋅s₁ + d₂⋅(c₁⋅c₂₃⋅s₅ + c₅⋅(c₁⋅c₄⋅s₂₃\n",
       "                                                                              \n",
       "c₁⋅s₄ + c₄⋅s₁⋅s₂₃)  c₁⋅d₁ + 8⋅c₂⋅s₁ + 8⋅c₂₃⋅s₁ + d₂⋅(c₂₃⋅s₁⋅s₅ + c₅⋅(-c₁⋅s₄ + \n",
       "                                                                              \n",
       " - s₂₃⋅s₅                       -d₂⋅(-c₂₃⋅c₄⋅c₅ + s₂₃⋅s₅) - 8⋅s₂ - 8⋅s₂₃ + 13 \n",
       "                                                                              \n",
       "0                                                     1                       \n",
       "\n",
       " + s₁⋅s₄)) ⎤\n",
       "           ⎥\n",
       "c₄⋅s₁⋅s₂₃))⎥\n",
       "           ⎥\n",
       "           ⎥\n",
       "           ⎥\n",
       "           ⎦"
      ]
     },
     "execution_count": 3,
     "metadata": {},
     "output_type": "execute_result"
    }
   ],
   "source": [
    "H06 = puma.HTM(0, 6)\n",
    "\n",
    "H06"
   ]
  },
  {
   "attachments": {},
   "cell_type": "markdown",
   "metadata": {},
   "source": [
    "### Cinemática inversa de posição:"
   ]
  },
  {
   "attachments": {},
   "cell_type": "markdown",
   "metadata": {},
   "source": [
    "##### Partindo da matriz homogênea do MCD: $$H_6^0 = \\left[ \\begin{matrix} R_6^0 & o_6^0\\\\ 0 & 1 \\end{matrix} \\right], $$ e  e de uma pose alvo desejada (target): $$H_T = \\left[ \\begin{matrix}  R_T & o_T\\\\ 0 & 1 \\end{matrix} \\right]$$ Desacoplamento cinemático: $$o_6^0 = o_c^0 + d_2R_6^0k ~~\\implies~~ o_c^0 = o_6^0 - d_2R_6^0k,$$ analogamente: $$o_T = o_c^0 + d_2R_Tk ~~\\implies~~ o_c^0 = o_T - d_2R_Tk,$$ portanto: $$o_c^0 = \\left[ \\begin{matrix} o_x - d_2r_{13}\\\\ o_y - d_2r_{23}\\\\ o_z\\ - d_2r_{33}  \\end{matrix} \\right] = \\left[ \\begin{matrix} X_T - d_2r_{T_{13}}\\\\ Y_T - d_2r_{T_{23}}\\\\ Z_T - d_2r_{T_{33}} \\end{matrix} \\right]$$"
   ]
  },
  {
   "cell_type": "code",
   "execution_count": 4,
   "metadata": {},
   "outputs": [
    {
     "data": {
      "text/latex": [
       "$\\displaystyle \\left[\\begin{matrix}8 c_{1} c_{2} + 8 c_{1} c_{23} - d₁ s_{1}\\\\c_{1} d₁ + 8 c_{2} s_{1} + 8 c_{23} s_{1}\\\\- 8 s_{2} - 8 s_{23} + 13\\end{matrix}\\right]$"
      ],
      "text/plain": [
       "⎡8⋅c₁⋅c₂ + 8⋅c₁⋅c₂₃ - d₁⋅s₁⎤\n",
       "⎢                          ⎥\n",
       "⎢c₁⋅d₁ + 8⋅c₂⋅s₁ + 8⋅c₂₃⋅s₁⎥\n",
       "⎢                          ⎥\n",
       "⎣    -8⋅s₂ - 8⋅s₂₃ + 13    ⎦"
      ]
     },
     "execution_count": 4,
     "metadata": {},
     "output_type": "execute_result"
    }
   ],
   "source": [
    "oc = simplify(H06[:3,3] - d2*H06[:3, 2])\n",
    "\n",
    "oc"
   ]
  },
  {
   "attachments": {},
   "cell_type": "markdown",
   "metadata": {},
   "source": [
    "#####  $$\\text{Assim, obtem-se os três primeiros ângulos } \\theta_1,~\\theta_2~e~\\theta_3 \\text{, resolvendo-se o sistema não linear:}$$"
   ]
  },
  {
   "attachments": {},
   "cell_type": "markdown",
   "metadata": {},
   "source": [
    "$$8c_1c_2+8c_1c_{23}-d_1s_1 ~~=~~ X_T - d_2r_{T_{13}}$$\n",
    "\n",
    "$$c_1d_1+8c_2s_1+8c_{23}s_1 ~~=~~ Y_T - d_2r_{T_{23}}$$\n",
    "\n",
    "$$-8s_2-8s_{23}+13 ~~=~~ Z_T - d_2r_{T_{33}}$$"
   ]
  },
  {
   "attachments": {},
   "cell_type": "markdown",
   "metadata": {},
   "source": [
    "### Cinemática Inversa de Orientação:"
   ]
  },
  {
   "attachments": {},
   "cell_type": "markdown",
   "metadata": {},
   "source": [
    "##### Adotando: $$R_6^3 = \\left( R_3^0 \\right)^{-1}R_6^0 = \\left( R_3^0 \\right)^{T}R_6^0$$ e: $$R_T = R_3^0(\\theta_1, \\theta_2, \\theta_3)R_6^3(\\theta_1, \\theta_2, \\theta_3)$$"
   ]
  },
  {
   "attachments": {},
   "cell_type": "markdown",
   "metadata": {},
   "source": [
    "##### $$\\text{A partir do modelo cinemático direto (Denavit-Hartenberg): } R_3^0 = A_1A_2A_3$$"
   ]
  },
  {
   "cell_type": "code",
   "execution_count": 5,
   "metadata": {},
   "outputs": [
    {
     "data": {
      "image/png": "[encoded data removed]",
      "text/latex": [
       "$\\displaystyle \\left[\\begin{matrix}- c_{1} s_{23} & - s_{1} & c_{1} c_{23}\\\\- s_{1} s_{23} & c_{1} & c_{23} s_{1}\\\\- c_{23} & 0 & - s_{23}\\end{matrix}\\right]$"
      ],
      "text/plain": [
       "⎡-c₁⋅s₂₃  -s₁  c₁⋅c₂₃⎤\n",
       "⎢                    ⎥\n",
       "⎢-s₁⋅s₂₃  c₁   c₂₃⋅s₁⎥\n",
       "⎢                    ⎥\n",
       "⎣ -c₂₃     0    -s₂₃ ⎦"
      ]
     },
     "execution_count": 5,
     "metadata": {},
     "output_type": "execute_result"
    }
   ],
   "source": [
    "R03 = puma.HTM(0, 3)[:3, :3]\n",
    "\n",
    "R03"
   ]
  },
  {
   "attachments": {},
   "cell_type": "markdown",
   "metadata": {},
   "source": [
    "##### $$\\text{A partir do modelo cinemático direto (Denavit-Hartenberg): } R_6^3 = A_4A_5A_6$$"
   ]
  },
  {
   "cell_type": "code",
   "execution_count": 13,
   "metadata": {},
   "outputs": [
    {
     "data": {
      "image/png": "[encoded data removed]",
      "text/latex": [
       "$\\displaystyle \\left[\\begin{matrix}c_{4} c_{6} s_{5} - s_{4} s_{6} & - c_{4} s_{5} s_{6} - c_{6} s_{4} & - c_{4} c_{5}\\\\c_{4} s_{6} + c_{6} s_{4} s_{5} & c_{4} c_{6} - s_{4} s_{5} s_{6} & - c_{5} s_{4}\\\\c_{5} c_{6} & - c_{5} s_{6} & s_{5}\\end{matrix}\\right]$"
      ],
      "text/plain": [
       "⎡c₄⋅c₆⋅s₅ - s₄⋅s₆  -c₄⋅s₅⋅s₆ - c₆⋅s₄  -c₄⋅c₅⎤\n",
       "⎢                                           ⎥\n",
       "⎢c₄⋅s₆ + c₆⋅s₄⋅s₅  c₄⋅c₆ - s₄⋅s₅⋅s₆   -c₅⋅s₄⎥\n",
       "⎢                                           ⎥\n",
       "⎣     c₅⋅c₆             -c₅⋅s₆          s₅  ⎦"
      ]
     },
     "execution_count": 13,
     "metadata": {},
     "output_type": "execute_result"
    }
   ],
   "source": [
    "R36 = puma.HTM(3, 6)[:3, :3]\n",
    "\n",
    "R36"
   ]
  },
  {
   "cell_type": "code",
   "execution_count": 14,
   "metadata": {},
   "outputs": [
    {
     "data": {
      "image/png": "[encoded data removed]",
      "text/latex": [
       "$\\displaystyle \\left[\\begin{matrix}- c_{1} r_{11} s_{23} - c_{23} r_{31} - r_{21} s_{1} s_{23} & - c_{1} r_{12} s_{23} - c_{23} r_{32} - r_{22} s_{1} s_{23} & - c_{1} r_{13} s_{23} - c_{23} r_{33} - r_{23} s_{1} s_{23}\\\\c_{1} r_{21} - r_{11} s_{1} & c_{1} r_{22} - r_{12} s_{1} & c_{1} r_{23} - r_{13} s_{1}\\\\c_{1} c_{23} r_{11} + c_{23} r_{21} s_{1} - r_{31} s_{23} & c_{1} c_{23} r_{12} + c_{23} r_{22} s_{1} - r_{32} s_{23} & c_{1} c_{23} r_{13} + c_{23} r_{23} s_{1} - r_{33} s_{23}\\end{matrix}\\right]$"
      ],
      "text/plain": [
       "⎡-c₁⋅r_{11}⋅s₂₃ - c₂₃⋅r_{31} - r_{21}⋅s₁⋅s₂₃  -c₁⋅r_{12}⋅s₂₃ - c₂₃⋅r_{32} - r_\n",
       "⎢                                                                             \n",
       "⎢           c₁⋅r_{21} - r_{11}⋅s₁                        c₁⋅r_{22} - r_{12}⋅s₁\n",
       "⎢                                                                             \n",
       "⎣c₁⋅c₂₃⋅r_{11} + c₂₃⋅r_{21}⋅s₁ - r_{31}⋅s₂₃   c₁⋅c₂₃⋅r_{12} + c₂₃⋅r_{22}⋅s₁ - \n",
       "\n",
       "{22}⋅s₁⋅s₂₃  -c₁⋅r_{13}⋅s₂₃ - c₂₃⋅r_{33} - r_{23}⋅s₁⋅s₂₃⎤\n",
       "                                                        ⎥\n",
       "                        c₁⋅r_{23} - r_{13}⋅s₁           ⎥\n",
       "                                                        ⎥\n",
       "r_{32}⋅s₂₃   c₁⋅c₂₃⋅r_{13} + c₂₃⋅r_{23}⋅s₁ - r_{33}⋅s₂₃ ⎦"
      ]
     },
     "execution_count": 14,
     "metadata": {},
     "output_type": "execute_result"
    }
   ],
   "source": [
    "r11= Symbol('r_{11}')\n",
    "r12= Symbol('r_{12}')\n",
    "r13= Symbol('r_{13}')\n",
    "r21= Symbol('r_{21}')\n",
    "r22= Symbol('r_{22}')\n",
    "r23= Symbol('r_{23}')\n",
    "r31= Symbol('r_{31}')\n",
    "r32= Symbol('r_{32}')\n",
    "r33= Symbol('r_{33}')\n",
    "RT = Matrix([\n",
    "    [r11, r12, r13],\n",
    "    [r21, r22, r23],\n",
    "    [r31, r32, r33]\n",
    "])\n",
    "\n",
    "M = R03.T@RT\n",
    "\n",
    "M"
   ]
  },
  {
   "attachments": {},
   "cell_type": "markdown",
   "metadata": {},
   "source": [
    "##### Assim, associa-se: $$ \\left[\\begin{matrix}c_{4} c_{6} s_{5} - s_{4} s_{6} & - c_{4} s_{5} s_{6} - c_{6} s_{4} & - c_{4} c_{5}\\\\c_{4} s_{6} + c_{6} s_{4} s_{5} & c_{4} c_{6} - s_{4} s_{5} s_{6} & - c_{5} s_{4}\\\\c_{5} c_{6} & - c_{5} s_{6} & s_{5}\\end{matrix}\\right] = \\left[\\begin{matrix}- c_{1} r_{11} s_{23} - c_{23} r_{31} - r_{21} s_{1} s_{23} & - c_{1} r_{12} s_{23} - c_{23} r_{32} - r_{22} s_{1} s_{23} & - c_{1} r_{13} s_{23} - c_{23} r_{33} - r_{23} s_{1} s_{23}\\\\c_{1} r_{21} - r_{11} s_{1} & c_{1} r_{22} - r_{12} s_{1} & c_{1} r_{23} - r_{13} s_{1}\\\\c_{1} c_{23} r_{11} + c_{23} r_{21} s_{1} - r_{31} s_{23} & c_{1} c_{23} r_{12} + c_{23} r_{22} s_{1} - r_{32} s_{23} & c_{1} c_{23} r_{13} + c_{23} r_{23} s_{1} - r_{33} s_{23}\\end{matrix}\\right],$$ $$\\text{onde os valores de } \\theta_1, \\theta_2, \\theta_3 \\text{ são conhecidos, da MCI de posição.} $$"
   ]
  },
  {
   "attachments": {},
   "cell_type": "markdown",
   "metadata": {},
   "source": [
    "#####  $$\\text{Assim, obtem-se os três últimos ângulos } \\theta_4,~\\theta_5~e~\\theta_6 \\text{, resolvendo-se o sistema:}$$ $$s_5 = c_1c_{23}r_{13}+c_{23}r_{23}s_1-r_{33}s_{23}$$ $$c_5c_6 = c_1c_{23}r_{11}+c_{23}r_{21}s_1-r_{31}s_{23} ~~\\implies~~ c_6 = \\frac{c_1c_{23}r_{11}+c_{23}r_{21}s_1-r_{31}s_{23}}{c_5}$$ $$-c_5s_4 = c_1r_{23}-r_{13}s_1 ~~\\implies~~ s_4 = \\frac{r_{13}s_1-c_1r_{23}}{c_5}$$ onde os elementos associados foram escolhidos por questão de simplicidade, já que, qualquer associação que fosse linearmente independente poderia ser utilizada."
   ]
  },
  {
   "attachments": {},
   "cell_type": "markdown",
   "metadata": {},
   "source": [
    "##### Logo, as soluções tornam-se: $$\\theta_5 = \\pm atan2(s_5, ~\\sqrt{1-s_5^2})$$ $$\\theta_6 = \\pm atan2(\\sqrt{1-c_6^2}, ~c_6)$$ $$\\theta_4 = \\pm atan2(s_4, ~\\sqrt{1-s_4^2})$$"
   ]
  }
 ],
 "metadata": {
  "kernelspec": {
   "display_name": "Python 3",
   "language": "python",
   "name": "python3"
  },
  "language_info": {
   "codemirror_mode": {
    "name": "ipython",
    "version": 3
   },
   "file_extension": ".py",
   "mimetype": "text/x-python",
   "name": "python",
   "nbconvert_exporter": "python",
   "pygments_lexer": "ipython3",
   "version": "3.11.0"
  },
  "orig_nbformat": 4
 },
 "nbformat": 4,
 "nbformat_minor": 2
}
